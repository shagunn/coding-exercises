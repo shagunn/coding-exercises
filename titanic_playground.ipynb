{
 "cells": [
  {
   "cell_type": "markdown",
   "metadata": {},
   "source": [
    "**General Steps**\n",
    "1. Import Data\n",
    "2. Examine Data (EDA) \n",
    "    - understand the data\n",
    "3. Split into train/test if such a split doesn't already exist\n",
    "    - depends on CV strategy\n",
    "4. Feature Engineering / Preprocessing Pipeline\n",
    "5. Model Training\n",
    "6. Evaluation"
   ]
  },
  {
   "cell_type": "code",
   "execution_count": 3,
   "metadata": {},
   "outputs": [],
   "source": [
    "import pathlib\n",
    "\n",
    "import pandas as pd\n",
    "import numpy as np\n",
    "import matplotlib.pyplot as plt"
   ]
  },
  {
   "cell_type": "markdown",
   "metadata": {},
   "source": [
    "# Import Data"
   ]
  },
  {
   "cell_type": "code",
   "execution_count": 9,
   "metadata": {},
   "outputs": [],
   "source": [
    "# import data\n",
    "data_path = pathlib.Path.cwd() / \"titanic\"\n",
    "df_data = pd.read_csv(data_path / \"train.csv\")"
   ]
  },
  {
   "cell_type": "markdown",
   "metadata": {},
   "source": [
    "# Examine Data"
   ]
  },
  {
   "cell_type": "markdown",
   "metadata": {},
   "source": [
    "### Data dictionary\n",
    "* PassengerId is the unique id of the row and it doesn't have any effect on target\n",
    "* Survived is the target variable we are trying to predict (0 or 1):\n",
    "    * 1 = Survived\n",
    "    * 0 = Not Survived\n",
    "* Pclass (Passenger Class) is the socio-economic status of the passenger and it is a categorical ordinal feature which has 3 unique values (1, 2 or 3):\n",
    "    * 1 = Upper Class\n",
    "    * 2 = Middle Class\n",
    "    * 3 = Lower Class\n",
    "* Name, Sex and Age are self-explanatory\n",
    "    * name could be useful for feature extraction?\n",
    "* SibSp is the total number of the passengers' siblings and spouse -> numeric\n",
    "* Parch is the total number of the passengers' parents and children\n",
    "* Ticket is the ticket number of the passenger\n",
    "    * **note:** can get rid of this\n",
    "* Fare is the passenger fare\n",
    "* Cabin is the cabin number of the passenger\n",
    "* Embarked is port of embarkation and it is a categorical feature which has 3 unique values (C, Q or S):\n",
    "    * C = Cherbourg\n",
    "    * Q = Queenstown\n",
    "    * S = Southampton"
   ]
  },
  {
   "cell_type": "code",
   "execution_count": 3,
   "metadata": {
    "scrolled": true
   },
   "outputs": [
    {
     "data": {
      "text/plain": [
       "(891, 12)"
      ]
     },
     "execution_count": 3,
     "metadata": {},
     "output_type": "execute_result"
    }
   ],
   "source": [
    "df_data.shape"
   ]
  },
  {
   "cell_type": "code",
   "execution_count": 4,
   "metadata": {},
   "outputs": [
    {
     "name": "stdout",
     "output_type": "stream",
     "text": [
      "PassengerId\n",
      "Survived\n",
      "Pclass\n",
      "Name\n",
      "Sex\n",
      "Age\n",
      "SibSp\n",
      "Parch\n",
      "Ticket\n",
      "Fare\n",
      "Cabin\n",
      "Embarked\n"
     ]
    }
   ],
   "source": [
    "for i in df_data.columns:\n",
    "    print(i)"
   ]
  },
  {
   "cell_type": "code",
   "execution_count": 5,
   "metadata": {
    "scrolled": false
   },
   "outputs": [
    {
     "data": {
      "text/html": [
       "<div>\n",
       "<style scoped>\n",
       "    .dataframe tbody tr th:only-of-type {\n",
       "        vertical-align: middle;\n",
       "    }\n",
       "\n",
       "    .dataframe tbody tr th {\n",
       "        vertical-align: top;\n",
       "    }\n",
       "\n",
       "    .dataframe thead th {\n",
       "        text-align: right;\n",
       "    }\n",
       "</style>\n",
       "<table border=\"1\" class=\"dataframe\">\n",
       "  <thead>\n",
       "    <tr style=\"text-align: right;\">\n",
       "      <th></th>\n",
       "      <th>PassengerId</th>\n",
       "      <th>Survived</th>\n",
       "      <th>Pclass</th>\n",
       "      <th>Name</th>\n",
       "      <th>Sex</th>\n",
       "      <th>Age</th>\n",
       "      <th>SibSp</th>\n",
       "      <th>Parch</th>\n",
       "      <th>Ticket</th>\n",
       "      <th>Fare</th>\n",
       "      <th>Cabin</th>\n",
       "      <th>Embarked</th>\n",
       "    </tr>\n",
       "  </thead>\n",
       "  <tbody>\n",
       "    <tr>\n",
       "      <th>0</th>\n",
       "      <td>1</td>\n",
       "      <td>0</td>\n",
       "      <td>3</td>\n",
       "      <td>Braund, Mr. Owen Harris</td>\n",
       "      <td>male</td>\n",
       "      <td>22.0</td>\n",
       "      <td>1</td>\n",
       "      <td>0</td>\n",
       "      <td>A/5 21171</td>\n",
       "      <td>7.2500</td>\n",
       "      <td>NaN</td>\n",
       "      <td>S</td>\n",
       "    </tr>\n",
       "    <tr>\n",
       "      <th>1</th>\n",
       "      <td>2</td>\n",
       "      <td>1</td>\n",
       "      <td>1</td>\n",
       "      <td>Cumings, Mrs. John Bradley (Florence Briggs Th...</td>\n",
       "      <td>female</td>\n",
       "      <td>38.0</td>\n",
       "      <td>1</td>\n",
       "      <td>0</td>\n",
       "      <td>PC 17599</td>\n",
       "      <td>71.2833</td>\n",
       "      <td>C85</td>\n",
       "      <td>C</td>\n",
       "    </tr>\n",
       "    <tr>\n",
       "      <th>2</th>\n",
       "      <td>3</td>\n",
       "      <td>1</td>\n",
       "      <td>3</td>\n",
       "      <td>Heikkinen, Miss. Laina</td>\n",
       "      <td>female</td>\n",
       "      <td>26.0</td>\n",
       "      <td>0</td>\n",
       "      <td>0</td>\n",
       "      <td>STON/O2. 3101282</td>\n",
       "      <td>7.9250</td>\n",
       "      <td>NaN</td>\n",
       "      <td>S</td>\n",
       "    </tr>\n",
       "    <tr>\n",
       "      <th>3</th>\n",
       "      <td>4</td>\n",
       "      <td>1</td>\n",
       "      <td>1</td>\n",
       "      <td>Futrelle, Mrs. Jacques Heath (Lily May Peel)</td>\n",
       "      <td>female</td>\n",
       "      <td>35.0</td>\n",
       "      <td>1</td>\n",
       "      <td>0</td>\n",
       "      <td>113803</td>\n",
       "      <td>53.1000</td>\n",
       "      <td>C123</td>\n",
       "      <td>S</td>\n",
       "    </tr>\n",
       "    <tr>\n",
       "      <th>4</th>\n",
       "      <td>5</td>\n",
       "      <td>0</td>\n",
       "      <td>3</td>\n",
       "      <td>Allen, Mr. William Henry</td>\n",
       "      <td>male</td>\n",
       "      <td>35.0</td>\n",
       "      <td>0</td>\n",
       "      <td>0</td>\n",
       "      <td>373450</td>\n",
       "      <td>8.0500</td>\n",
       "      <td>NaN</td>\n",
       "      <td>S</td>\n",
       "    </tr>\n",
       "    <tr>\n",
       "      <th>...</th>\n",
       "      <td>...</td>\n",
       "      <td>...</td>\n",
       "      <td>...</td>\n",
       "      <td>...</td>\n",
       "      <td>...</td>\n",
       "      <td>...</td>\n",
       "      <td>...</td>\n",
       "      <td>...</td>\n",
       "      <td>...</td>\n",
       "      <td>...</td>\n",
       "      <td>...</td>\n",
       "      <td>...</td>\n",
       "    </tr>\n",
       "    <tr>\n",
       "      <th>886</th>\n",
       "      <td>887</td>\n",
       "      <td>0</td>\n",
       "      <td>2</td>\n",
       "      <td>Montvila, Rev. Juozas</td>\n",
       "      <td>male</td>\n",
       "      <td>27.0</td>\n",
       "      <td>0</td>\n",
       "      <td>0</td>\n",
       "      <td>211536</td>\n",
       "      <td>13.0000</td>\n",
       "      <td>NaN</td>\n",
       "      <td>S</td>\n",
       "    </tr>\n",
       "    <tr>\n",
       "      <th>887</th>\n",
       "      <td>888</td>\n",
       "      <td>1</td>\n",
       "      <td>1</td>\n",
       "      <td>Graham, Miss. Margaret Edith</td>\n",
       "      <td>female</td>\n",
       "      <td>19.0</td>\n",
       "      <td>0</td>\n",
       "      <td>0</td>\n",
       "      <td>112053</td>\n",
       "      <td>30.0000</td>\n",
       "      <td>B42</td>\n",
       "      <td>S</td>\n",
       "    </tr>\n",
       "    <tr>\n",
       "      <th>888</th>\n",
       "      <td>889</td>\n",
       "      <td>0</td>\n",
       "      <td>3</td>\n",
       "      <td>Johnston, Miss. Catherine Helen \"Carrie\"</td>\n",
       "      <td>female</td>\n",
       "      <td>NaN</td>\n",
       "      <td>1</td>\n",
       "      <td>2</td>\n",
       "      <td>W./C. 6607</td>\n",
       "      <td>23.4500</td>\n",
       "      <td>NaN</td>\n",
       "      <td>S</td>\n",
       "    </tr>\n",
       "    <tr>\n",
       "      <th>889</th>\n",
       "      <td>890</td>\n",
       "      <td>1</td>\n",
       "      <td>1</td>\n",
       "      <td>Behr, Mr. Karl Howell</td>\n",
       "      <td>male</td>\n",
       "      <td>26.0</td>\n",
       "      <td>0</td>\n",
       "      <td>0</td>\n",
       "      <td>111369</td>\n",
       "      <td>30.0000</td>\n",
       "      <td>C148</td>\n",
       "      <td>C</td>\n",
       "    </tr>\n",
       "    <tr>\n",
       "      <th>890</th>\n",
       "      <td>891</td>\n",
       "      <td>0</td>\n",
       "      <td>3</td>\n",
       "      <td>Dooley, Mr. Patrick</td>\n",
       "      <td>male</td>\n",
       "      <td>32.0</td>\n",
       "      <td>0</td>\n",
       "      <td>0</td>\n",
       "      <td>370376</td>\n",
       "      <td>7.7500</td>\n",
       "      <td>NaN</td>\n",
       "      <td>Q</td>\n",
       "    </tr>\n",
       "  </tbody>\n",
       "</table>\n",
       "<p>891 rows × 12 columns</p>\n",
       "</div>"
      ],
      "text/plain": [
       "     PassengerId  Survived  Pclass  \\\n",
       "0              1         0       3   \n",
       "1              2         1       1   \n",
       "2              3         1       3   \n",
       "3              4         1       1   \n",
       "4              5         0       3   \n",
       "..           ...       ...     ...   \n",
       "886          887         0       2   \n",
       "887          888         1       1   \n",
       "888          889         0       3   \n",
       "889          890         1       1   \n",
       "890          891         0       3   \n",
       "\n",
       "                                                  Name     Sex   Age  SibSp  \\\n",
       "0                              Braund, Mr. Owen Harris    male  22.0      1   \n",
       "1    Cumings, Mrs. John Bradley (Florence Briggs Th...  female  38.0      1   \n",
       "2                               Heikkinen, Miss. Laina  female  26.0      0   \n",
       "3         Futrelle, Mrs. Jacques Heath (Lily May Peel)  female  35.0      1   \n",
       "4                             Allen, Mr. William Henry    male  35.0      0   \n",
       "..                                                 ...     ...   ...    ...   \n",
       "886                              Montvila, Rev. Juozas    male  27.0      0   \n",
       "887                       Graham, Miss. Margaret Edith  female  19.0      0   \n",
       "888           Johnston, Miss. Catherine Helen \"Carrie\"  female   NaN      1   \n",
       "889                              Behr, Mr. Karl Howell    male  26.0      0   \n",
       "890                                Dooley, Mr. Patrick    male  32.0      0   \n",
       "\n",
       "     Parch            Ticket     Fare Cabin Embarked  \n",
       "0        0         A/5 21171   7.2500   NaN        S  \n",
       "1        0          PC 17599  71.2833   C85        C  \n",
       "2        0  STON/O2. 3101282   7.9250   NaN        S  \n",
       "3        0            113803  53.1000  C123        S  \n",
       "4        0            373450   8.0500   NaN        S  \n",
       "..     ...               ...      ...   ...      ...  \n",
       "886      0            211536  13.0000   NaN        S  \n",
       "887      0            112053  30.0000   B42        S  \n",
       "888      2        W./C. 6607  23.4500   NaN        S  \n",
       "889      0            111369  30.0000  C148        C  \n",
       "890      0            370376   7.7500   NaN        Q  \n",
       "\n",
       "[891 rows x 12 columns]"
      ]
     },
     "execution_count": 5,
     "metadata": {},
     "output_type": "execute_result"
    }
   ],
   "source": [
    "df_data"
   ]
  },
  {
   "cell_type": "code",
   "execution_count": 6,
   "metadata": {},
   "outputs": [
    {
     "name": "stdout",
     "output_type": "stream",
     "text": [
      "<class 'pandas.core.frame.DataFrame'>\n",
      "RangeIndex: 891 entries, 0 to 890\n",
      "Data columns (total 12 columns):\n",
      " #   Column       Non-Null Count  Dtype  \n",
      "---  ------       --------------  -----  \n",
      " 0   PassengerId  891 non-null    int64  \n",
      " 1   Survived     891 non-null    int64  \n",
      " 2   Pclass       891 non-null    int64  \n",
      " 3   Name         891 non-null    object \n",
      " 4   Sex          891 non-null    object \n",
      " 5   Age          714 non-null    float64\n",
      " 6   SibSp        891 non-null    int64  \n",
      " 7   Parch        891 non-null    int64  \n",
      " 8   Ticket       891 non-null    object \n",
      " 9   Fare         891 non-null    float64\n",
      " 10  Cabin        204 non-null    object \n",
      " 11  Embarked     889 non-null    object \n",
      "dtypes: float64(2), int64(5), object(5)\n",
      "memory usage: 83.7+ KB\n"
     ]
    }
   ],
   "source": [
    "df_data.info()"
   ]
  },
  {
   "cell_type": "code",
   "execution_count": 7,
   "metadata": {},
   "outputs": [
    {
     "data": {
      "text/plain": [
       "PassengerId    891\n",
       "Survived         2\n",
       "Pclass           3\n",
       "Name           891\n",
       "Sex              2\n",
       "Age             88\n",
       "SibSp            7\n",
       "Parch            7\n",
       "Ticket         681\n",
       "Fare           248\n",
       "Cabin          147\n",
       "Embarked         3\n",
       "dtype: int64"
      ]
     },
     "execution_count": 7,
     "metadata": {},
     "output_type": "execute_result"
    }
   ],
   "source": [
    "df_data.nunique()"
   ]
  },
  {
   "cell_type": "code",
   "execution_count": 8,
   "metadata": {},
   "outputs": [
    {
     "data": {
      "text/html": [
       "<div>\n",
       "<style scoped>\n",
       "    .dataframe tbody tr th:only-of-type {\n",
       "        vertical-align: middle;\n",
       "    }\n",
       "\n",
       "    .dataframe tbody tr th {\n",
       "        vertical-align: top;\n",
       "    }\n",
       "\n",
       "    .dataframe thead th {\n",
       "        text-align: right;\n",
       "    }\n",
       "</style>\n",
       "<table border=\"1\" class=\"dataframe\">\n",
       "  <thead>\n",
       "    <tr style=\"text-align: right;\">\n",
       "      <th></th>\n",
       "      <th>missing_count</th>\n",
       "      <th>missing_frac</th>\n",
       "    </tr>\n",
       "  </thead>\n",
       "  <tbody>\n",
       "    <tr>\n",
       "      <th>PassengerId</th>\n",
       "      <td>0</td>\n",
       "      <td>0.000000</td>\n",
       "    </tr>\n",
       "    <tr>\n",
       "      <th>Survived</th>\n",
       "      <td>0</td>\n",
       "      <td>0.000000</td>\n",
       "    </tr>\n",
       "    <tr>\n",
       "      <th>Pclass</th>\n",
       "      <td>0</td>\n",
       "      <td>0.000000</td>\n",
       "    </tr>\n",
       "    <tr>\n",
       "      <th>Name</th>\n",
       "      <td>0</td>\n",
       "      <td>0.000000</td>\n",
       "    </tr>\n",
       "    <tr>\n",
       "      <th>Sex</th>\n",
       "      <td>0</td>\n",
       "      <td>0.000000</td>\n",
       "    </tr>\n",
       "    <tr>\n",
       "      <th>Age</th>\n",
       "      <td>177</td>\n",
       "      <td>0.198653</td>\n",
       "    </tr>\n",
       "    <tr>\n",
       "      <th>SibSp</th>\n",
       "      <td>0</td>\n",
       "      <td>0.000000</td>\n",
       "    </tr>\n",
       "    <tr>\n",
       "      <th>Parch</th>\n",
       "      <td>0</td>\n",
       "      <td>0.000000</td>\n",
       "    </tr>\n",
       "    <tr>\n",
       "      <th>Ticket</th>\n",
       "      <td>0</td>\n",
       "      <td>0.000000</td>\n",
       "    </tr>\n",
       "    <tr>\n",
       "      <th>Fare</th>\n",
       "      <td>0</td>\n",
       "      <td>0.000000</td>\n",
       "    </tr>\n",
       "    <tr>\n",
       "      <th>Cabin</th>\n",
       "      <td>687</td>\n",
       "      <td>0.771044</td>\n",
       "    </tr>\n",
       "    <tr>\n",
       "      <th>Embarked</th>\n",
       "      <td>2</td>\n",
       "      <td>0.002245</td>\n",
       "    </tr>\n",
       "  </tbody>\n",
       "</table>\n",
       "</div>"
      ],
      "text/plain": [
       "             missing_count  missing_frac\n",
       "PassengerId              0      0.000000\n",
       "Survived                 0      0.000000\n",
       "Pclass                   0      0.000000\n",
       "Name                     0      0.000000\n",
       "Sex                      0      0.000000\n",
       "Age                    177      0.198653\n",
       "SibSp                    0      0.000000\n",
       "Parch                    0      0.000000\n",
       "Ticket                   0      0.000000\n",
       "Fare                     0      0.000000\n",
       "Cabin                  687      0.771044\n",
       "Embarked                 2      0.002245"
      ]
     },
     "execution_count": 8,
     "metadata": {},
     "output_type": "execute_result"
    }
   ],
   "source": [
    "df_missing_count = df_data.isnull().sum().to_frame(name=\"missing_count\")\n",
    "df_missing_frac = df_data.isnull().mean().to_frame(name=\"missing_frac\")\n",
    "pd.merge(df_missing_count, df_missing_frac, left_index=True, right_index=True)"
   ]
  },
  {
   "cell_type": "code",
   "execution_count": 9,
   "metadata": {
    "scrolled": true
   },
   "outputs": [
    {
     "data": {
      "text/plain": [
       "Index(['PassengerId', 'Survived', 'Pclass', 'Name', 'Sex', 'Age', 'SibSp',\n",
       "       'Parch', 'Ticket', 'Fare', 'Cabin', 'Embarked'],\n",
       "      dtype='object')"
      ]
     },
     "execution_count": 9,
     "metadata": {},
     "output_type": "execute_result"
    }
   ],
   "source": [
    "df_data.columns"
   ]
  },
  {
   "cell_type": "code",
   "execution_count": 15,
   "metadata": {},
   "outputs": [
    {
     "name": "stdout",
     "output_type": "stream",
     "text": [
      "set()\n",
      "set()\n"
     ]
    }
   ],
   "source": [
    "cols_to_drop = ['Name','PassengerId', 'Ticket']\n",
    "numerical_cols = ['Age', 'SibSp','Parch', 'Fare']\n",
    "cat_ordinal = ['Pclass','Sex', 'Embarked']\n",
    "other = ['Cabin']\n",
    "target = ['Survived']\n",
    "\n",
    "# quick check to see that we got all relevant cols\n",
    "print(set(df_data.columns) - set(cols_to_drop + numerical_cols + cat_ordinal + other + target))\n",
    "print(set(cols_to_drop + numerical_cols + cat_ordinal + other + target) - set(df_data.columns))"
   ]
  },
  {
   "cell_type": "markdown",
   "metadata": {},
   "source": [
    "### other"
   ]
  },
  {
   "cell_type": "code",
   "execution_count": 16,
   "metadata": {},
   "outputs": [
    {
     "data": {
      "text/plain": [
       "B96 B98        4\n",
       "G6             4\n",
       "C23 C25 C27    4\n",
       "C22 C26        3\n",
       "F33            3\n",
       "              ..\n",
       "E34            1\n",
       "C7             1\n",
       "C54            1\n",
       "E36            1\n",
       "C148           1\n",
       "Name: Cabin, Length: 147, dtype: int64"
      ]
     },
     "execution_count": 16,
     "metadata": {},
     "output_type": "execute_result"
    }
   ],
   "source": [
    "df_data[\"Cabin\"].value_counts()"
   ]
  },
  {
   "cell_type": "code",
   "execution_count": 17,
   "metadata": {},
   "outputs": [
    {
     "data": {
      "text/plain": [
       "742    B57 B59 B63 B66\n",
       "311    B57 B59 B63 B66\n",
       "679        B51 B53 B55\n",
       "88         C23 C25 C27\n",
       "872        B51 B53 B55\n",
       "438        C23 C25 C27\n",
       "27         C23 C25 C27\n",
       "341        C23 C25 C27\n",
       "297            C22 C26\n",
       "498            C22 C26\n",
       "299            B58 B60\n",
       "118            B58 B60\n",
       "789            B82 B84\n",
       "97             D10 D12\n",
       "305            C22 C26\n",
       "802            B96 B98\n",
       "700            C62 C64\n",
       "390            B96 B98\n",
       "763            B96 B98\n",
       "435            B96 B98\n",
       "75               F G73\n",
       "699              F G63\n",
       "715              F G73\n",
       "128              F E69\n",
       "711               C124\n",
       "712               C126\n",
       "717               E101\n",
       "268               C125\n",
       "889               C148\n",
       "298               C106\n",
       "303               E101\n",
       "669               C126\n",
       "331               C124\n",
       "609               C125\n",
       "351               C128\n",
       "571               C101\n",
       "449               C104\n",
       "452               C111\n",
       "3                 C123\n",
       "737               B101\n",
       "Name: Cabin, dtype: object"
      ]
     },
     "execution_count": 17,
     "metadata": {},
     "output_type": "execute_result"
    }
   ],
   "source": [
    "df_data[\"Cabin\"].sort_values(ascending=False, key=lambda x: x.str.len()).head(40)"
   ]
  },
  {
   "cell_type": "code",
   "execution_count": 18,
   "metadata": {},
   "outputs": [],
   "source": [
    "def get_deck(val):\n",
    "    if pd.notnull(val):\n",
    "        return val[0]\n",
    "    else:\n",
    "        return \"M\"\n",
    "df_data[\"Deck\"] = df_data[\"Cabin\"].apply(get_deck)"
   ]
  },
  {
   "cell_type": "code",
   "execution_count": 19,
   "metadata": {},
   "outputs": [
    {
     "data": {
      "text/plain": [
       "['Pclass', 'Sex', 'Embarked', 'Deck']"
      ]
     },
     "execution_count": 19,
     "metadata": {},
     "output_type": "execute_result"
    }
   ],
   "source": [
    "cat_ordinal.append(\"Deck\")\n",
    "cat_ordinal"
   ]
  },
  {
   "cell_type": "markdown",
   "metadata": {},
   "source": [
    "### categorical data\n",
    "- look at distributions and number of levels \n",
    "- see if anything odd is going on with the data"
   ]
  },
  {
   "cell_type": "code",
   "execution_count": 20,
   "metadata": {},
   "outputs": [
    {
     "data": {
      "text/html": [
       "<div>\n",
       "<style scoped>\n",
       "    .dataframe tbody tr th:only-of-type {\n",
       "        vertical-align: middle;\n",
       "    }\n",
       "\n",
       "    .dataframe tbody tr th {\n",
       "        vertical-align: top;\n",
       "    }\n",
       "\n",
       "    .dataframe thead th {\n",
       "        text-align: right;\n",
       "    }\n",
       "</style>\n",
       "<table border=\"1\" class=\"dataframe\">\n",
       "  <thead>\n",
       "    <tr style=\"text-align: right;\">\n",
       "      <th></th>\n",
       "      <th>Name</th>\n",
       "      <th>Sex</th>\n",
       "      <th>Ticket</th>\n",
       "      <th>Cabin</th>\n",
       "      <th>Embarked</th>\n",
       "      <th>Deck</th>\n",
       "    </tr>\n",
       "  </thead>\n",
       "  <tbody>\n",
       "    <tr>\n",
       "      <th>count</th>\n",
       "      <td>891</td>\n",
       "      <td>891</td>\n",
       "      <td>891</td>\n",
       "      <td>204</td>\n",
       "      <td>889</td>\n",
       "      <td>891</td>\n",
       "    </tr>\n",
       "    <tr>\n",
       "      <th>unique</th>\n",
       "      <td>891</td>\n",
       "      <td>2</td>\n",
       "      <td>681</td>\n",
       "      <td>147</td>\n",
       "      <td>3</td>\n",
       "      <td>9</td>\n",
       "    </tr>\n",
       "    <tr>\n",
       "      <th>top</th>\n",
       "      <td>Braund, Mr. Owen Harris</td>\n",
       "      <td>male</td>\n",
       "      <td>347082</td>\n",
       "      <td>B96 B98</td>\n",
       "      <td>S</td>\n",
       "      <td>M</td>\n",
       "    </tr>\n",
       "    <tr>\n",
       "      <th>freq</th>\n",
       "      <td>1</td>\n",
       "      <td>577</td>\n",
       "      <td>7</td>\n",
       "      <td>4</td>\n",
       "      <td>644</td>\n",
       "      <td>687</td>\n",
       "    </tr>\n",
       "  </tbody>\n",
       "</table>\n",
       "</div>"
      ],
      "text/plain": [
       "                           Name   Sex  Ticket    Cabin Embarked Deck\n",
       "count                       891   891     891      204      889  891\n",
       "unique                      891     2     681      147        3    9\n",
       "top     Braund, Mr. Owen Harris  male  347082  B96 B98        S    M\n",
       "freq                          1   577       7        4      644  687"
      ]
     },
     "execution_count": 20,
     "metadata": {},
     "output_type": "execute_result"
    }
   ],
   "source": [
    "df_data.describe(include=[object])"
   ]
  },
  {
   "cell_type": "code",
   "execution_count": 21,
   "metadata": {
    "scrolled": false
   },
   "outputs": [
    {
     "name": "stdout",
     "output_type": "stream",
     "text": [
      "Pclass\n",
      "   counts  fraction\n",
      "3     491  0.551066\n",
      "1     216  0.242424\n",
      "2     184  0.206510\n"
     ]
    },
    {
     "data": {
      "image/png": "[encoded data removed]",
      "text/plain": [
       "<Figure size 432x288 with 1 Axes>"
      ]
     },
     "metadata": {
      "needs_background": "light"
     },
     "output_type": "display_data"
    },
    {
     "name": "stdout",
     "output_type": "stream",
     "text": [
      "Sex\n",
      "        counts  fraction\n",
      "male       577  0.647587\n",
      "female     314  0.352413\n"
     ]
    },
    {
     "data": {
      "image/png": "[encoded data removed]",
      "text/plain": [
       "<Figure size 432x288 with 1 Axes>"
      ]
     },
     "metadata": {
      "needs_background": "light"
     },
     "output_type": "display_data"
    },
    {
     "name": "stdout",
     "output_type": "stream",
     "text": [
      "Embarked\n",
      "   counts  fraction\n",
      "S     644  0.724409\n",
      "C     168  0.188976\n",
      "Q      77  0.086614\n"
     ]
    },
    {
     "data": {
      "image/png": "[encoded data removed]",
      "text/plain": [
       "<Figure size 432x288 with 1 Axes>"
      ]
     },
     "metadata": {
      "needs_background": "light"
     },
     "output_type": "display_data"
    },
    {
     "name": "stdout",
     "output_type": "stream",
     "text": [
      "Deck\n",
      "   counts  fraction\n",
      "M     687  0.771044\n",
      "C      59  0.066218\n",
      "B      47  0.052750\n",
      "D      33  0.037037\n",
      "E      32  0.035915\n",
      "A      15  0.016835\n",
      "F      13  0.014590\n",
      "G       4  0.004489\n",
      "T       1  0.001122\n"
     ]
    },
    {
     "data": {
      "image/png": "[encoded data removed]",
      "text/plain": [
       "<Figure size 432x288 with 1 Axes>"
      ]
     },
     "metadata": {
      "needs_background": "light"
     },
     "output_type": "display_data"
    }
   ],
   "source": [
    "def get_value_counts(df, col_names):\n",
    "    for col in col_names:\n",
    "        print(col)\n",
    "        df_counts = df[col].value_counts().to_frame(name=\"counts\")\n",
    "        df_fraction = df[col].value_counts(normalize=True).to_frame(name=\"fraction\")\n",
    "        print(pd.merge(df_counts, df_fraction,left_index=True, right_index=True))\n",
    "        df[col].value_counts().plot(kind = 'bar')\n",
    "        plt.show()\n",
    "        \n",
    "get_value_counts(df_data, cat_ordinal)"
   ]
  },
  {
   "cell_type": "code",
   "execution_count": 22,
   "metadata": {},
   "outputs": [],
   "source": [
    "# https://towardsdatascience.com/100-stacked-charts-in-python-6ca3e1962d2b"
   ]
  },
  {
   "cell_type": "code",
   "execution_count": 23,
   "metadata": {},
   "outputs": [
    {
     "data": {
      "image/png": "[encoded data removed]",
      "text/plain": [
       "<Figure size 288x216 with 1 Axes>"
      ]
     },
     "metadata": {
      "needs_background": "light"
     },
     "output_type": "display_data"
    },
    {
     "data": {
      "image/png": "[encoded data removed]",
      "text/plain": [
       "<Figure size 288x216 with 1 Axes>"
      ]
     },
     "metadata": {
      "needs_background": "light"
     },
     "output_type": "display_data"
    },
    {
     "data": {
      "image/png": "[encoded data removed]",
      "text/plain": [
       "<Figure size 288x216 with 1 Axes>"
      ]
     },
     "metadata": {
      "needs_background": "light"
     },
     "output_type": "display_data"
    },
    {
     "data": {
      "image/png": "[encoded data removed]",
      "text/plain": [
       "<Figure size 288x216 with 1 Axes>"
      ]
     },
     "metadata": {
      "needs_background": "light"
     },
     "output_type": "display_data"
    }
   ],
   "source": [
    "for col in cat_ordinal:\n",
    "    plt.figure\n",
    "    pd.crosstab(df_data[col], df_data['Survived'], normalize=\"index\").plot(kind='bar', stacked=True, \n",
    "                                                                              colormap='tab10', figsize=(4, 3))\n",
    "    plt.show()"
   ]
  },
  {
   "cell_type": "code",
   "execution_count": 24,
   "metadata": {},
   "outputs": [],
   "source": [
    "# df_data.groupby(['Deck', 'Survived']).size().unstack()\n",
    "# df_data.groupby(['Deck']).count().drop(columns=['Survived', 'Sex', 'Age', 'SibSp', 'Parch', 'Fare', 'Embarked', 'Cabin', 'PassengerId', 'Ticket']).rename(columns={'Name': 'Count'}).transpose()"
   ]
  },
  {
   "cell_type": "markdown",
   "metadata": {},
   "source": [
    "### Numerical data\n"
   ]
  },
  {
   "cell_type": "code",
   "execution_count": 25,
   "metadata": {},
   "outputs": [
    {
     "data": {
      "text/html": [
       "<div>\n",
       "<style scoped>\n",
       "    .dataframe tbody tr th:only-of-type {\n",
       "        vertical-align: middle;\n",
       "    }\n",
       "\n",
       "    .dataframe tbody tr th {\n",
       "        vertical-align: top;\n",
       "    }\n",
       "\n",
       "    .dataframe thead th {\n",
       "        text-align: right;\n",
       "    }\n",
       "</style>\n",
       "<table border=\"1\" class=\"dataframe\">\n",
       "  <thead>\n",
       "    <tr style=\"text-align: right;\">\n",
       "      <th></th>\n",
       "      <th>PassengerId</th>\n",
       "      <th>Survived</th>\n",
       "      <th>Pclass</th>\n",
       "      <th>Age</th>\n",
       "      <th>SibSp</th>\n",
       "      <th>Parch</th>\n",
       "      <th>Fare</th>\n",
       "    </tr>\n",
       "  </thead>\n",
       "  <tbody>\n",
       "    <tr>\n",
       "      <th>count</th>\n",
       "      <td>891.000000</td>\n",
       "      <td>891.000000</td>\n",
       "      <td>891.000000</td>\n",
       "      <td>714.000000</td>\n",
       "      <td>891.000000</td>\n",
       "      <td>891.000000</td>\n",
       "      <td>891.000000</td>\n",
       "    </tr>\n",
       "    <tr>\n",
       "      <th>mean</th>\n",
       "      <td>446.000000</td>\n",
       "      <td>0.383838</td>\n",
       "      <td>2.308642</td>\n",
       "      <td>29.699118</td>\n",
       "      <td>0.523008</td>\n",
       "      <td>0.381594</td>\n",
       "      <td>32.204208</td>\n",
       "    </tr>\n",
       "    <tr>\n",
       "      <th>std</th>\n",
       "      <td>257.353842</td>\n",
       "      <td>0.486592</td>\n",
       "      <td>0.836071</td>\n",
       "      <td>14.526497</td>\n",
       "      <td>1.102743</td>\n",
       "      <td>0.806057</td>\n",
       "      <td>49.693429</td>\n",
       "    </tr>\n",
       "    <tr>\n",
       "      <th>min</th>\n",
       "      <td>1.000000</td>\n",
       "      <td>0.000000</td>\n",
       "      <td>1.000000</td>\n",
       "      <td>0.420000</td>\n",
       "      <td>0.000000</td>\n",
       "      <td>0.000000</td>\n",
       "      <td>0.000000</td>\n",
       "    </tr>\n",
       "    <tr>\n",
       "      <th>25%</th>\n",
       "      <td>223.500000</td>\n",
       "      <td>0.000000</td>\n",
       "      <td>2.000000</td>\n",
       "      <td>20.125000</td>\n",
       "      <td>0.000000</td>\n",
       "      <td>0.000000</td>\n",
       "      <td>7.910400</td>\n",
       "    </tr>\n",
       "    <tr>\n",
       "      <th>50%</th>\n",
       "      <td>446.000000</td>\n",
       "      <td>0.000000</td>\n",
       "      <td>3.000000</td>\n",
       "      <td>28.000000</td>\n",
       "      <td>0.000000</td>\n",
       "      <td>0.000000</td>\n",
       "      <td>14.454200</td>\n",
       "    </tr>\n",
       "    <tr>\n",
       "      <th>75%</th>\n",
       "      <td>668.500000</td>\n",
       "      <td>1.000000</td>\n",
       "      <td>3.000000</td>\n",
       "      <td>38.000000</td>\n",
       "      <td>1.000000</td>\n",
       "      <td>0.000000</td>\n",
       "      <td>31.000000</td>\n",
       "    </tr>\n",
       "    <tr>\n",
       "      <th>max</th>\n",
       "      <td>891.000000</td>\n",
       "      <td>1.000000</td>\n",
       "      <td>3.000000</td>\n",
       "      <td>80.000000</td>\n",
       "      <td>8.000000</td>\n",
       "      <td>6.000000</td>\n",
       "      <td>512.329200</td>\n",
       "    </tr>\n",
       "  </tbody>\n",
       "</table>\n",
       "</div>"
      ],
      "text/plain": [
       "       PassengerId    Survived      Pclass         Age       SibSp  \\\n",
       "count   891.000000  891.000000  891.000000  714.000000  891.000000   \n",
       "mean    446.000000    0.383838    2.308642   29.699118    0.523008   \n",
       "std     257.353842    0.486592    0.836071   14.526497    1.102743   \n",
       "min       1.000000    0.000000    1.000000    0.420000    0.000000   \n",
       "25%     223.500000    0.000000    2.000000   20.125000    0.000000   \n",
       "50%     446.000000    0.000000    3.000000   28.000000    0.000000   \n",
       "75%     668.500000    1.000000    3.000000   38.000000    1.000000   \n",
       "max     891.000000    1.000000    3.000000   80.000000    8.000000   \n",
       "\n",
       "            Parch        Fare  \n",
       "count  891.000000  891.000000  \n",
       "mean     0.381594   32.204208  \n",
       "std      0.806057   49.693429  \n",
       "min      0.000000    0.000000  \n",
       "25%      0.000000    7.910400  \n",
       "50%      0.000000   14.454200  \n",
       "75%      0.000000   31.000000  \n",
       "max      6.000000  512.329200  "
      ]
     },
     "execution_count": 25,
     "metadata": {},
     "output_type": "execute_result"
    }
   ],
   "source": [
    "df_data.describe(include=(np.number))"
   ]
  },
  {
   "cell_type": "code",
   "execution_count": 26,
   "metadata": {
    "scrolled": true
   },
   "outputs": [
    {
     "name": "stdout",
     "output_type": "stream",
     "text": [
      "Age\n"
     ]
    },
    {
     "data": {
      "image/png": "[encoded data removed]",
      "text/plain": [
       "<Figure size 432x288 with 1 Axes>"
      ]
     },
     "metadata": {
      "needs_background": "light"
     },
     "output_type": "display_data"
    },
    {
     "name": "stdout",
     "output_type": "stream",
     "text": [
      "SibSp\n"
     ]
    },
    {
     "data": {
      "image/png": "[encoded data removed]",
      "text/plain": [
       "<Figure size 432x288 with 1 Axes>"
      ]
     },
     "metadata": {
      "needs_background": "light"
     },
     "output_type": "display_data"
    },
    {
     "name": "stdout",
     "output_type": "stream",
     "text": [
      "Parch\n"
     ]
    },
    {
     "data": {
      "image/png": "[encoded data removed]",
      "text/plain": [
       "<Figure size 432x288 with 1 Axes>"
      ]
     },
     "metadata": {
      "needs_background": "light"
     },
     "output_type": "display_data"
    },
    {
     "name": "stdout",
     "output_type": "stream",
     "text": [
      "Fare\n"
     ]
    },
    {
     "data": {
      "image/png": "[encoded data removed]",
      "text/plain": [
       "<Figure size 432x288 with 1 Axes>"
      ]
     },
     "metadata": {
      "needs_background": "light"
     },
     "output_type": "display_data"
    }
   ],
   "source": [
    "def plot_distribution(df, col_names):\n",
    "    for col in col_names:\n",
    "        print(col)\n",
    "        df[col].plot.hist(alpha=0.5)\n",
    "        plt.show()\n",
    "plot_distribution(df_data, numerical_cols)"
   ]
  },
  {
   "cell_type": "code",
   "execution_count": 27,
   "metadata": {},
   "outputs": [
    {
     "data": {
      "image/png": "[encoded data removed]",
      "text/plain": [
       "<Figure size 864x576 with 4 Axes>"
      ]
     },
     "metadata": {
      "needs_background": "light"
     },
     "output_type": "display_data"
    }
   ],
   "source": [
    "_ = df_data[numerical_cols].hist(figsize=(12, 8), alpha=0.75)"
   ]
  },
  {
   "cell_type": "code",
   "execution_count": 28,
   "metadata": {},
   "outputs": [],
   "source": [
    "def log_transform(x):\n",
    "    return np.log(x + 1)\n",
    "\n",
    "df_data[\"Fare_log\"] = df_data[\"Fare\"].apply(log_transform)"
   ]
  },
  {
   "cell_type": "code",
   "execution_count": 29,
   "metadata": {},
   "outputs": [
    {
     "data": {
      "text/plain": [
       "0      2.110213\n",
       "1      4.280593\n",
       "2      2.188856\n",
       "3      3.990834\n",
       "4      2.202765\n",
       "         ...   \n",
       "886    2.639057\n",
       "887    3.433987\n",
       "888    3.196630\n",
       "889    3.433987\n",
       "890    2.169054\n",
       "Name: Fare_log, Length: 891, dtype: float64"
      ]
     },
     "execution_count": 29,
     "metadata": {},
     "output_type": "execute_result"
    }
   ],
   "source": [
    "df_data[\"Fare_log\"]"
   ]
  },
  {
   "cell_type": "code",
   "execution_count": 30,
   "metadata": {},
   "outputs": [
    {
     "data": {
      "image/png": "[encoded data removed]",
      "text/plain": [
       "<Figure size 432x288 with 1 Axes>"
      ]
     },
     "metadata": {
      "needs_background": "light"
     },
     "output_type": "display_data"
    }
   ],
   "source": [
    "_ = df_data[\"Fare_log\"].hist(alpha=0.75)"
   ]
  },
  {
   "cell_type": "code",
   "execution_count": 31,
   "metadata": {
    "scrolled": true
   },
   "outputs": [
    {
     "data": {
      "text/plain": [
       "count    714.000000\n",
       "mean      29.699118\n",
       "std       14.526497\n",
       "min        0.420000\n",
       "25%       20.125000\n",
       "50%       28.000000\n",
       "75%       38.000000\n",
       "max       80.000000\n",
       "Name: Age, dtype: float64"
      ]
     },
     "execution_count": 31,
     "metadata": {},
     "output_type": "execute_result"
    }
   ],
   "source": [
    "df_data['Age'].describe()"
   ]
  },
  {
   "cell_type": "code",
   "execution_count": 32,
   "metadata": {
    "scrolled": true
   },
   "outputs": [
    {
     "data": {
      "text/plain": [
       "Age     -0.077221\n",
       "SibSp   -0.035322\n",
       "Parch    0.081629\n",
       "Fare     0.257307\n",
       "dtype: float64"
      ]
     },
     "execution_count": 32,
     "metadata": {},
     "output_type": "execute_result"
    }
   ],
   "source": [
    "df_data[numerical_cols].corrwith(df_data[\"Survived\"], axis=0, drop=False, method='pearson')"
   ]
  },
  {
   "cell_type": "code",
   "execution_count": 33,
   "metadata": {},
   "outputs": [
    {
     "data": {
      "text/plain": [
       "Index(['PassengerId', 'Survived', 'Pclass', 'Name', 'Sex', 'Age', 'SibSp',\n",
       "       'Parch', 'Ticket', 'Fare', 'Cabin', 'Embarked', 'Deck', 'Fare_log'],\n",
       "      dtype='object')"
      ]
     },
     "execution_count": 33,
     "metadata": {},
     "output_type": "execute_result"
    }
   ],
   "source": [
    "df_data.columns"
   ]
  },
  {
   "cell_type": "code",
   "execution_count": 36,
   "metadata": {},
   "outputs": [],
   "source": [
    "cols_to_drop = ['Name','PassengerId', 'Ticket']"
   ]
  },
  {
   "cell_type": "code",
   "execution_count": 37,
   "metadata": {},
   "outputs": [],
   "source": [
    "cols_to_drop.extend(other)"
   ]
  },
  {
   "cell_type": "code",
   "execution_count": 38,
   "metadata": {
    "scrolled": true
   },
   "outputs": [
    {
     "data": {
      "text/plain": [
       "['Name', 'PassengerId', 'Ticket', 'Cabin']"
      ]
     },
     "execution_count": 38,
     "metadata": {},
     "output_type": "execute_result"
    }
   ],
   "source": [
    "cols_to_drop"
   ]
  },
  {
   "cell_type": "code",
   "execution_count": 40,
   "metadata": {},
   "outputs": [
    {
     "data": {
      "text/plain": [
       "['Age', 'SibSp', 'Parch', 'Fare']"
      ]
     },
     "execution_count": 40,
     "metadata": {},
     "output_type": "execute_result"
    }
   ],
   "source": [
    "numerical_cols"
   ]
  },
  {
   "cell_type": "code",
   "execution_count": 41,
   "metadata": {},
   "outputs": [
    {
     "data": {
      "text/plain": [
       "['Pclass', 'Sex', 'Embarked', 'Deck']"
      ]
     },
     "execution_count": 41,
     "metadata": {},
     "output_type": "execute_result"
    }
   ],
   "source": [
    "cat_ordinal"
   ]
  },
  {
   "cell_type": "code",
   "execution_count": 42,
   "metadata": {},
   "outputs": [
    {
     "data": {
      "text/plain": [
       "['Survived']"
      ]
     },
     "execution_count": 42,
     "metadata": {},
     "output_type": "execute_result"
    }
   ],
   "source": [
    "target"
   ]
  },
  {
   "cell_type": "markdown",
   "metadata": {},
   "source": [
    "## Questions / Next Steps\n",
    "\n",
    "**target**\n",
    "- set target to survived \n",
    "\n",
    "**drop:**\n",
    "- name, passengerid, ticket\n",
    "\n",
    "**feature engineering**\n",
    "\n",
    "**categorical data**\n",
    "- missing data\n",
    "- label encoder\n",
    "- one hot encoding\n",
    "\n",
    "**numerical data**\n",
    " - log transform\n",
    " - missing value imputation\n",
    " - normalization\n",
    " \n",
    "\n",
    "\n",
    "if a simple model with no hyperparams\n",
    "- train / test spliit\n",
    "\n",
    "model with hyperpparams\n",
    "- train / test split\n",
    "- used kfold on train to select hyperparams\n",
    "\n",
    "multiple models, each with hypperparams\n",
    "- nested k-fold\n",
    "\n",
    "\n",
    "Other:\n",
    "validate that input data order \n",
    "**model training**\n",
    "- use pipeline for training/validation\n",
    "- whats transformations are required for logistic regression?\n",
    "- what transformations are required for random forest, xgboost, neural nets?\n",
    "\n",
    "**model eval**\n",
    "\n",
    "\n",
    "\n",
    "\n",
    "\n",
    "\n",
    "**numeric**\n",
    "- imputation\n",
    "- clipping\n",
    "- bucketing\n",
    "- scaling\n",
    "- imputation before scaling / bucketing?\n",
    "\n",
    "\n",
    "**ordinal**\n",
    "- how to treat these?\n",
    "\n",
    "**categorical**\n",
    "- imputation?\n",
    "- one hot encoding\n",
    "\n",
    "**new feature creation**\n",
    "\n",
    "\n",
    "For later:\n",
    "- make code reusable \n",
    "- extend pipeline to include multiple models\n",
    "- add some testing "
   ]
  },
  {
   "cell_type": "code",
   "execution_count": 15,
   "metadata": {},
   "outputs": [],
   "source": [
    "from sklearn.model_selection import train_test_split\n",
    "from sklearn.impute import SimpleImputer \n",
    "from sklearn.pipeline import Pipeline\n",
    "from sklearn.preprocessing import FunctionTransformer, OneHotEncoder\n",
    "from sklearn.preprocessing import MinMaxScaler\n",
    "from sklearn.compose import ColumnTransformer"
   ]
  },
  {
   "cell_type": "code",
   "execution_count": 16,
   "metadata": {},
   "outputs": [],
   "source": [
    "def get_features_target(data_path, target_col):\n",
    "    \"\"\"splits data into train and test\"\"\"\n",
    "    data = pd.read_csv(data_path / \"train.csv\")\n",
    "    target = data.filter(items=[target_col])\n",
    "    features = data.drop(target_col, axis=1)\n",
    "    return features, target\n",
    "\n",
    "\n",
    "def get_deck(val):\n",
    "    if pd.notnull(val):\n",
    "        return val[0]\n",
    "    else:\n",
    "        return \"M\""
   ]
  },
  {
   "cell_type": "code",
   "execution_count": 17,
   "metadata": {},
   "outputs": [],
   "source": [
    "from sklearn.base import TransformerMixin, BaseEstimator\n",
    "\n",
    "class Debug(BaseEstimator, TransformerMixin):\n",
    "    def transform(self, X):\n",
    "        print(X.shape)\n",
    "        print(X)\n",
    "        print(\"done\")\n",
    "        return X\n",
    "\n",
    "    def fit(self, X, y=None, **fit_params):\n",
    "        print(\"potato\")\n",
    "        return self\n",
    "    \n",
    "# (\"debug\", Debug()),"
   ]
  },
  {
   "cell_type": "code",
   "execution_count": 19,
   "metadata": {},
   "outputs": [],
   "source": [
    "def feature_transformations():\n",
    "    \"\"\"\n",
    "    feature transformations\n",
    "    \"\"\"\n",
    "    \n",
    "    # add transforms\n",
    "    # categorical transforms\n",
    "    categorical_transformer = Pipeline(steps=[\n",
    "        ('imputer', SimpleImputer(strategy='most_frequent')),\n",
    "        ('encoder', OneHotEncoder(dtype='int', handle_unknown='ignore'))])\n",
    "\n",
    "    # numerical transforms\n",
    "    log_transformer = FunctionTransformer(np.log1p)\n",
    "    fare_transformer = Pipeline(steps=[\n",
    "        ('imputer_fare', SimpleImputer(strategy='median')),\n",
    "        ('log_transform', log_transformer),\n",
    "        ('min_max_scalar', MinMaxScaler(feature_range=(-1,1)))\n",
    "    ])\n",
    "    \n",
    "    num_transformer = Pipeline(steps=[\n",
    "        ('imputer_numerical', SimpleImputer(strategy='mean')),\n",
    "        # (\"debug\", Debug()),\n",
    "        ('min_max_scalar', MinMaxScaler(feature_range=(-1,1)))\n",
    "    ])\n",
    "\n",
    "        \n",
    "    # create prepprocessor\n",
    "    preprocessor = ColumnTransformer(\n",
    "        transformers=[\n",
    "            ('cat', categorical_transformer, [\"Embarked\", \"Sex\", \"Pclass\"]),\n",
    "            ('fare', fare_transformer, [\"Fare\"]),\n",
    "            ('num', num_transformer, ['Age', 'SibSp', 'Parch'])\n",
    "        ])\n",
    "    \n",
    "    return preprocessor"
   ]
  },
  {
   "cell_type": "code",
   "execution_count": 20,
   "metadata": {},
   "outputs": [
    {
     "name": "stdout",
     "output_type": "stream",
     "text": [
      "(891, 11)\n",
      "(891, 1)\n"
     ]
    }
   ],
   "source": [
    "features, target = get_features_target(data_path, \"Survived\")\n",
    "print(features.shape)\n",
    "print(target.shape)"
   ]
  },
  {
   "cell_type": "code",
   "execution_count": 21,
   "metadata": {},
   "outputs": [],
   "source": [
    "# features[\"Deck\"] = features[\"Cabin\"].apply(get_deck)\n",
    "# print(features.shape)"
   ]
  },
  {
   "cell_type": "code",
   "execution_count": 40,
   "metadata": {
    "scrolled": true
   },
   "outputs": [],
   "source": [
    "X_train, X_test, y_train, y_test = train_test_split(features, target, test_size=0.15, random_state=1)"
   ]
  },
  {
   "cell_type": "code",
   "execution_count": 37,
   "metadata": {},
   "outputs": [],
   "source": [
    "# preprocessor = feature_transformations()"
   ]
  },
  {
   "cell_type": "code",
   "execution_count": 32,
   "metadata": {
    "scrolled": true
   },
   "outputs": [
    {
     "data": {
      "text/html": [
       "<div>\n",
       "<style scoped>\n",
       "    .dataframe tbody tr th:only-of-type {\n",
       "        vertical-align: middle;\n",
       "    }\n",
       "\n",
       "    .dataframe tbody tr th {\n",
       "        vertical-align: top;\n",
       "    }\n",
       "\n",
       "    .dataframe thead th {\n",
       "        text-align: right;\n",
       "    }\n",
       "</style>\n",
       "<table border=\"1\" class=\"dataframe\">\n",
       "  <thead>\n",
       "    <tr style=\"text-align: right;\">\n",
       "      <th></th>\n",
       "      <th>Embarked_C</th>\n",
       "      <th>Embarked_Q</th>\n",
       "      <th>Embarked_S</th>\n",
       "      <th>Sex_female</th>\n",
       "      <th>Sex_male</th>\n",
       "      <th>Pclass_1</th>\n",
       "      <th>Pclass_2</th>\n",
       "      <th>Pclass_3</th>\n",
       "      <th>Fare</th>\n",
       "      <th>Age</th>\n",
       "      <th>SibSp</th>\n",
       "      <th>Parch</th>\n",
       "    </tr>\n",
       "  </thead>\n",
       "  <tbody>\n",
       "    <tr>\n",
       "      <th>0</th>\n",
       "      <td>0.0</td>\n",
       "      <td>0.0</td>\n",
       "      <td>1.0</td>\n",
       "      <td>1.0</td>\n",
       "      <td>0.0</td>\n",
       "      <td>0.0</td>\n",
       "      <td>0.0</td>\n",
       "      <td>1.0</td>\n",
       "      <td>-0.094892</td>\n",
       "      <td>-0.181201</td>\n",
       "      <td>-0.25</td>\n",
       "      <td>-1.000000</td>\n",
       "    </tr>\n",
       "    <tr>\n",
       "      <th>1</th>\n",
       "      <td>1.0</td>\n",
       "      <td>0.0</td>\n",
       "      <td>0.0</td>\n",
       "      <td>1.0</td>\n",
       "      <td>0.0</td>\n",
       "      <td>1.0</td>\n",
       "      <td>0.0</td>\n",
       "      <td>0.0</td>\n",
       "      <td>0.600396</td>\n",
       "      <td>0.447097</td>\n",
       "      <td>-1.00</td>\n",
       "      <td>-1.000000</td>\n",
       "    </tr>\n",
       "    <tr>\n",
       "      <th>2</th>\n",
       "      <td>0.0</td>\n",
       "      <td>0.0</td>\n",
       "      <td>1.0</td>\n",
       "      <td>1.0</td>\n",
       "      <td>0.0</td>\n",
       "      <td>1.0</td>\n",
       "      <td>0.0</td>\n",
       "      <td>0.0</td>\n",
       "      <td>0.406883</td>\n",
       "      <td>-0.558180</td>\n",
       "      <td>-1.00</td>\n",
       "      <td>-0.333333</td>\n",
       "    </tr>\n",
       "    <tr>\n",
       "      <th>3</th>\n",
       "      <td>0.0</td>\n",
       "      <td>0.0</td>\n",
       "      <td>1.0</td>\n",
       "      <td>0.0</td>\n",
       "      <td>1.0</td>\n",
       "      <td>0.0</td>\n",
       "      <td>0.0</td>\n",
       "      <td>1.0</td>\n",
       "      <td>0.239919</td>\n",
       "      <td>-0.985423</td>\n",
       "      <td>0.25</td>\n",
       "      <td>-0.333333</td>\n",
       "    </tr>\n",
       "    <tr>\n",
       "      <th>4</th>\n",
       "      <td>0.0</td>\n",
       "      <td>0.0</td>\n",
       "      <td>1.0</td>\n",
       "      <td>0.0</td>\n",
       "      <td>1.0</td>\n",
       "      <td>0.0</td>\n",
       "      <td>0.0</td>\n",
       "      <td>1.0</td>\n",
       "      <td>-0.354472</td>\n",
       "      <td>-0.558180</td>\n",
       "      <td>-0.75</td>\n",
       "      <td>-1.000000</td>\n",
       "    </tr>\n",
       "    <tr>\n",
       "      <th>...</th>\n",
       "      <td>...</td>\n",
       "      <td>...</td>\n",
       "      <td>...</td>\n",
       "      <td>...</td>\n",
       "      <td>...</td>\n",
       "      <td>...</td>\n",
       "      <td>...</td>\n",
       "      <td>...</td>\n",
       "      <td>...</td>\n",
       "      <td>...</td>\n",
       "      <td>...</td>\n",
       "      <td>...</td>\n",
       "    </tr>\n",
       "    <tr>\n",
       "      <th>752</th>\n",
       "      <td>0.0</td>\n",
       "      <td>0.0</td>\n",
       "      <td>1.0</td>\n",
       "      <td>0.0</td>\n",
       "      <td>1.0</td>\n",
       "      <td>0.0</td>\n",
       "      <td>0.0</td>\n",
       "      <td>1.0</td>\n",
       "      <td>-0.308576</td>\n",
       "      <td>-0.533049</td>\n",
       "      <td>-1.00</td>\n",
       "      <td>-1.000000</td>\n",
       "    </tr>\n",
       "    <tr>\n",
       "      <th>753</th>\n",
       "      <td>0.0</td>\n",
       "      <td>1.0</td>\n",
       "      <td>0.0</td>\n",
       "      <td>1.0</td>\n",
       "      <td>0.0</td>\n",
       "      <td>0.0</td>\n",
       "      <td>0.0</td>\n",
       "      <td>1.0</td>\n",
       "      <td>-0.304893</td>\n",
       "      <td>-0.244031</td>\n",
       "      <td>-1.00</td>\n",
       "      <td>-1.000000</td>\n",
       "    </tr>\n",
       "    <tr>\n",
       "      <th>754</th>\n",
       "      <td>0.0</td>\n",
       "      <td>0.0</td>\n",
       "      <td>1.0</td>\n",
       "      <td>0.0</td>\n",
       "      <td>1.0</td>\n",
       "      <td>0.0</td>\n",
       "      <td>1.0</td>\n",
       "      <td>0.0</td>\n",
       "      <td>0.381463</td>\n",
       "      <td>-0.482785</td>\n",
       "      <td>-1.00</td>\n",
       "      <td>-1.000000</td>\n",
       "    </tr>\n",
       "    <tr>\n",
       "      <th>755</th>\n",
       "      <td>0.0</td>\n",
       "      <td>0.0</td>\n",
       "      <td>1.0</td>\n",
       "      <td>1.0</td>\n",
       "      <td>0.0</td>\n",
       "      <td>0.0</td>\n",
       "      <td>0.0</td>\n",
       "      <td>1.0</td>\n",
       "      <td>-0.312303</td>\n",
       "      <td>-0.259607</td>\n",
       "      <td>-1.00</td>\n",
       "      <td>-1.000000</td>\n",
       "    </tr>\n",
       "    <tr>\n",
       "      <th>756</th>\n",
       "      <td>0.0</td>\n",
       "      <td>0.0</td>\n",
       "      <td>1.0</td>\n",
       "      <td>0.0</td>\n",
       "      <td>1.0</td>\n",
       "      <td>0.0</td>\n",
       "      <td>0.0</td>\n",
       "      <td>1.0</td>\n",
       "      <td>-0.294089</td>\n",
       "      <td>-0.482785</td>\n",
       "      <td>-1.00</td>\n",
       "      <td>-1.000000</td>\n",
       "    </tr>\n",
       "  </tbody>\n",
       "</table>\n",
       "<p>757 rows × 12 columns</p>\n",
       "</div>"
      ],
      "text/plain": [
       "     Embarked_C  Embarked_Q  Embarked_S  Sex_female  Sex_male  Pclass_1  \\\n",
       "0           0.0         0.0         1.0         1.0       0.0       0.0   \n",
       "1           1.0         0.0         0.0         1.0       0.0       1.0   \n",
       "2           0.0         0.0         1.0         1.0       0.0       1.0   \n",
       "3           0.0         0.0         1.0         0.0       1.0       0.0   \n",
       "4           0.0         0.0         1.0         0.0       1.0       0.0   \n",
       "..          ...         ...         ...         ...       ...       ...   \n",
       "752         0.0         0.0         1.0         0.0       1.0       0.0   \n",
       "753         0.0         1.0         0.0         1.0       0.0       0.0   \n",
       "754         0.0         0.0         1.0         0.0       1.0       0.0   \n",
       "755         0.0         0.0         1.0         1.0       0.0       0.0   \n",
       "756         0.0         0.0         1.0         0.0       1.0       0.0   \n",
       "\n",
       "     Pclass_2  Pclass_3      Fare       Age  SibSp     Parch  \n",
       "0         0.0       1.0 -0.094892 -0.181201  -0.25 -1.000000  \n",
       "1         0.0       0.0  0.600396  0.447097  -1.00 -1.000000  \n",
       "2         0.0       0.0  0.406883 -0.558180  -1.00 -0.333333  \n",
       "3         0.0       1.0  0.239919 -0.985423   0.25 -0.333333  \n",
       "4         0.0       1.0 -0.354472 -0.558180  -0.75 -1.000000  \n",
       "..        ...       ...       ...       ...    ...       ...  \n",
       "752       0.0       1.0 -0.308576 -0.533049  -1.00 -1.000000  \n",
       "753       0.0       1.0 -0.304893 -0.244031  -1.00 -1.000000  \n",
       "754       1.0       0.0  0.381463 -0.482785  -1.00 -1.000000  \n",
       "755       0.0       1.0 -0.312303 -0.259607  -1.00 -1.000000  \n",
       "756       0.0       1.0 -0.294089 -0.482785  -1.00 -1.000000  \n",
       "\n",
       "[757 rows x 12 columns]"
      ]
     },
     "execution_count": 32,
     "metadata": {},
     "output_type": "execute_result"
    }
   ],
   "source": [
    "from sklearn.feature_selection._base import SelectorMixin\n",
    "from sklearn.feature_extraction.text import _VectorizerMixin\n",
    "\n",
    "def get_feature_out(estimator, feature_in):\n",
    "    if hasattr(estimator,'get_feature_names_out'):\n",
    "        if isinstance(estimator, _VectorizerMixin):\n",
    "            # handling all vectorizers\n",
    "            return [f'vec_{f}' \\\n",
    "                for f in estimator.get_feature_names_out()]\n",
    "        else:\n",
    "            return estimator.get_feature_names_out(feature_in)\n",
    "    elif isinstance(estimator, SelectorMixin):\n",
    "        return np.array(feature_in)[estimator.get_support()]\n",
    "    else:\n",
    "        return feature_in\n",
    "\n",
    "\n",
    "def get_ct_feature_names(ct):\n",
    "    # handles all estimators, pipelines inside ColumnTransfomer\n",
    "    # doesn't work when remainder =='passthrough'\n",
    "    # which requires the input column names.\n",
    "    output_features = []\n",
    "\n",
    "    for name, estimator, features in ct.transformers_:\n",
    "        if name!='remainder':\n",
    "            if isinstance(estimator, Pipeline):\n",
    "                current_features = features\n",
    "                for step in estimator:\n",
    "                    current_features = get_feature_out(step, current_features)\n",
    "                features_out = current_features\n",
    "            else:\n",
    "                features_out = get_feature_out(estimator, features)\n",
    "            output_features.extend(features_out)\n",
    "        elif estimator=='passthrough':\n",
    "            output_features.extend(ct._feature_names_in[features])\n",
    "                \n",
    "    return output_features\n",
    "\n",
    "\n",
    "preprocessor = feature_transformations()\n",
    "transformed_data = preprocessor.fit_transform(X_train)\n",
    "pd.DataFrame(transformed_data, \n",
    "             columns=get_ct_feature_names(preprocessor))"
   ]
  },
  {
   "cell_type": "code",
   "execution_count": 47,
   "metadata": {},
   "outputs": [
    {
     "name": "stdout",
     "output_type": "stream",
     "text": [
      "Pipeline(steps=[('pre',\n",
      "                 ColumnTransformer(transformers=[('cat',\n",
      "                                                  Pipeline(steps=[('imputer',\n",
      "                                                                   SimpleImputer(strategy='most_frequent')),\n",
      "                                                                  ('encoder',\n",
      "                                                                   OneHotEncoder(dtype='int',\n",
      "                                                                                 handle_unknown='ignore'))]),\n",
      "                                                  ['Embarked', 'Sex',\n",
      "                                                   'Pclass']),\n",
      "                                                 ('fare',\n",
      "                                                  Pipeline(steps=[('imputer_fare',\n",
      "                                                                   SimpleImputer(strategy='median')),\n",
      "                                                                  ('log_transform',\n",
      "                                                                   FunctionTransformer(func=<ufunc 'log1p'>)),\n",
      "                                                                  ('min_max_scalar',\n",
      "                                                                   MinMaxScaler(feature_range=(-1,\n",
      "                                                                                               1)))]),\n",
      "                                                  ['Fare']),\n",
      "                                                 ('num',\n",
      "                                                  Pipeline(steps=[('imputer_numerical',\n",
      "                                                                   SimpleImputer()),\n",
      "                                                                  ('min_max_scalar',\n",
      "                                                                   MinMaxScaler(feature_range=(-1,\n",
      "                                                                                               1)))]),\n",
      "                                                  ['Age', 'SibSp', 'Parch'])])),\n",
      "                ('estimator', GradientBoostingClassifier(max_depth=4))])\n",
      "0.7686567164179104\n"
     ]
    }
   ],
   "source": [
    "# ------ simple training pipeline ------\n",
    "\n",
    "from sklearn.ensemble import GradientBoostingClassifier\n",
    "\n",
    "training_pipeline = Pipeline([\n",
    "        ('pre', preprocessor),\n",
    "        ('estimator', GradientBoostingClassifier(max_depth=4, n_estimators=100))\n",
    "    ])\n",
    "print(training_pipeline)\n",
    "\n",
    "training_pipeline.fit(X_train, y_train.values.flatten())\n",
    "\n",
    "accuracy = training_pipeline.score(X_test, y_test.values.flatten())\n",
    "print(accuracy)"
   ]
  },
  {
   "cell_type": "code",
   "execution_count": null,
   "metadata": {},
   "outputs": [],
   "source": [
    "\"\"\"\n",
    "The parameters variable below is a dictionary that specifies the key:value pairs. \n",
    "Note the key must be written, with a double underscore __ separating the module name that we selected \n",
    "in the Pipeline() and its parameter. Note the following:\n",
    "\n",
    "The scaler has no double underscore, as we have specified a list of objects there.\n",
    "We would search for the best threshold for the selector, i.e., VarianceThreshold(). \n",
    "Hence we have specified a list of values [0, 0.0001, 0.001, 0.5] to choose from.\n",
    "Different values are specified for the n_neighbors, p and leaf_size parameters of the KNeighborsClassifier().\n",
    "\n",
    "https://machinelearningmastery.com/modeling-pipeline-optimization-with-scikit-learn/\n",
    "\n",
    "\"\"\"\n",
    "parameters = {'scaler': [StandardScaler(), MinMaxScaler(),\n",
    "Normalizer(), MaxAbsScaler()],\n",
    "'selector__threshold': [0, 0.001, 0.01],\n",
    "'classifier__n_neighbors': [1, 3, 5, 7, 10],\n",
    "'classifier__p': [1, 2],\n",
    "'classifier__leaf_size': [1, 5, 10, 15]\n",
    "}"
   ]
  },
  {
   "cell_type": "code",
   "execution_count": 50,
   "metadata": {},
   "outputs": [],
   "source": [
    "from sklearn.ensemble import RandomForestClassifier\n",
    "from sklearn.linear_model import LogisticRegression\n",
    "\n",
    "from sklearn.model_selection import GridSearchCV, cross_val_score, StratifiedKFold\n",
    "from sklearn import metrics"
   ]
  },
  {
   "cell_type": "code",
   "execution_count": 54,
   "metadata": {},
   "outputs": [
    {
     "data": {
      "text/html": [
       "<div>\n",
       "<style scoped>\n",
       "    .dataframe tbody tr th:only-of-type {\n",
       "        vertical-align: middle;\n",
       "    }\n",
       "\n",
       "    .dataframe tbody tr th {\n",
       "        vertical-align: top;\n",
       "    }\n",
       "\n",
       "    .dataframe thead th {\n",
       "        text-align: right;\n",
       "    }\n",
       "</style>\n",
       "<table border=\"1\" class=\"dataframe\">\n",
       "  <thead>\n",
       "    <tr style=\"text-align: right;\">\n",
       "      <th></th>\n",
       "      <th>Survived</th>\n",
       "    </tr>\n",
       "  </thead>\n",
       "  <tbody>\n",
       "    <tr>\n",
       "      <th>85</th>\n",
       "      <td>1</td>\n",
       "    </tr>\n",
       "    <tr>\n",
       "      <th>195</th>\n",
       "      <td>1</td>\n",
       "    </tr>\n",
       "    <tr>\n",
       "      <th>585</th>\n",
       "      <td>1</td>\n",
       "    </tr>\n",
       "    <tr>\n",
       "      <th>386</th>\n",
       "      <td>0</td>\n",
       "    </tr>\n",
       "    <tr>\n",
       "      <th>371</th>\n",
       "      <td>0</td>\n",
       "    </tr>\n",
       "    <tr>\n",
       "      <th>...</th>\n",
       "      <td>...</td>\n",
       "    </tr>\n",
       "    <tr>\n",
       "      <th>715</th>\n",
       "      <td>0</td>\n",
       "    </tr>\n",
       "    <tr>\n",
       "      <th>767</th>\n",
       "      <td>0</td>\n",
       "    </tr>\n",
       "    <tr>\n",
       "      <th>72</th>\n",
       "      <td>0</td>\n",
       "    </tr>\n",
       "    <tr>\n",
       "      <th>235</th>\n",
       "      <td>0</td>\n",
       "    </tr>\n",
       "    <tr>\n",
       "      <th>37</th>\n",
       "      <td>0</td>\n",
       "    </tr>\n",
       "  </tbody>\n",
       "</table>\n",
       "<p>757 rows × 1 columns</p>\n",
       "</div>"
      ],
      "text/plain": [
       "     Survived\n",
       "85          1\n",
       "195         1\n",
       "585         1\n",
       "386         0\n",
       "371         0\n",
       "..        ...\n",
       "715         0\n",
       "767         0\n",
       "72          0\n",
       "235         0\n",
       "37          0\n",
       "\n",
       "[757 rows x 1 columns]"
      ]
     },
     "execution_count": 54,
     "metadata": {},
     "output_type": "execute_result"
    }
   ],
   "source": [
    "y_train"
   ]
  },
  {
   "cell_type": "code",
   "execution_count": 69,
   "metadata": {},
   "outputs": [
    {
     "name": "stdout",
     "output_type": "stream",
     "text": [
      "Fitting 4 folds for each of 8 candidates, totalling 32 fits\n",
      "{'estimator__C': 10, 'estimator__penalty': 'l2'}\n",
      "0.8581338427736733\n"
     ]
    }
   ],
   "source": [
    "training_pipeline = Pipeline([\n",
    "        ('pre', preprocessor),\n",
    "        ('estimator', LogisticRegression(solver=\"liblinear\"))\n",
    "    ])\n",
    "\n",
    "parameters = {\n",
    "    'estimator__penalty': [\"l1\", \"l2\"],\n",
    "    'estimator__C':[0.01, 0.1, 1, 10]\n",
    "}\n",
    "\n",
    "cv = StratifiedKFold(n_splits=4, shuffle=True, random_state=42)\n",
    "grid = GridSearchCV(estimator=training_pipeline,\n",
    "                    param_grid=parameters,\n",
    "                    scoring='roc_auc',\n",
    "                    cv=cv,\n",
    "                    verbose=1,\n",
    "                    n_jobs=1,\n",
    "                    error_score=\"raise\")\n",
    "\n",
    "grid.fit(X_train, y_train.values.flatten())\n",
    "print(grid.best_params_)\n",
    "print(grid.best_score_)"
   ]
  },
  {
   "cell_type": "code",
   "execution_count": 70,
   "metadata": {},
   "outputs": [
    {
     "data": {
      "text/html": [
       "<div>\n",
       "<style scoped>\n",
       "    .dataframe tbody tr th:only-of-type {\n",
       "        vertical-align: middle;\n",
       "    }\n",
       "\n",
       "    .dataframe tbody tr th {\n",
       "        vertical-align: top;\n",
       "    }\n",
       "\n",
       "    .dataframe thead th {\n",
       "        text-align: right;\n",
       "    }\n",
       "</style>\n",
       "<table border=\"1\" class=\"dataframe\">\n",
       "  <thead>\n",
       "    <tr style=\"text-align: right;\">\n",
       "      <th></th>\n",
       "      <th>mean_fit_time</th>\n",
       "      <th>std_fit_time</th>\n",
       "      <th>mean_score_time</th>\n",
       "      <th>std_score_time</th>\n",
       "      <th>param_estimator__C</th>\n",
       "      <th>param_estimator__penalty</th>\n",
       "      <th>params</th>\n",
       "      <th>split0_test_score</th>\n",
       "      <th>split1_test_score</th>\n",
       "      <th>split2_test_score</th>\n",
       "      <th>split3_test_score</th>\n",
       "      <th>mean_test_score</th>\n",
       "      <th>std_test_score</th>\n",
       "      <th>rank_test_score</th>\n",
       "    </tr>\n",
       "  </thead>\n",
       "  <tbody>\n",
       "    <tr>\n",
       "      <th>0</th>\n",
       "      <td>0.017338</td>\n",
       "      <td>0.001410</td>\n",
       "      <td>0.009586</td>\n",
       "      <td>0.000801</td>\n",
       "      <td>0.01</td>\n",
       "      <td>l1</td>\n",
       "      <td>{'estimator__C': 0.01, 'estimator__penalty': '...</td>\n",
       "      <td>0.829567</td>\n",
       "      <td>0.746795</td>\n",
       "      <td>0.743590</td>\n",
       "      <td>0.763355</td>\n",
       "      <td>0.770827</td>\n",
       "      <td>0.034733</td>\n",
       "      <td>8</td>\n",
       "    </tr>\n",
       "    <tr>\n",
       "      <th>1</th>\n",
       "      <td>0.016431</td>\n",
       "      <td>0.000703</td>\n",
       "      <td>0.009058</td>\n",
       "      <td>0.000364</td>\n",
       "      <td>0.01</td>\n",
       "      <td>l2</td>\n",
       "      <td>{'estimator__C': 0.01, 'estimator__penalty': '...</td>\n",
       "      <td>0.898423</td>\n",
       "      <td>0.849122</td>\n",
       "      <td>0.806090</td>\n",
       "      <td>0.828051</td>\n",
       "      <td>0.845421</td>\n",
       "      <td>0.034174</td>\n",
       "      <td>6</td>\n",
       "    </tr>\n",
       "    <tr>\n",
       "      <th>2</th>\n",
       "      <td>0.026540</td>\n",
       "      <td>0.006237</td>\n",
       "      <td>0.012039</td>\n",
       "      <td>0.001824</td>\n",
       "      <td>0.1</td>\n",
       "      <td>l1</td>\n",
       "      <td>{'estimator__C': 0.1, 'estimator__penalty': 'l1'}</td>\n",
       "      <td>0.882474</td>\n",
       "      <td>0.825261</td>\n",
       "      <td>0.803716</td>\n",
       "      <td>0.830306</td>\n",
       "      <td>0.835439</td>\n",
       "      <td>0.028934</td>\n",
       "      <td>7</td>\n",
       "    </tr>\n",
       "    <tr>\n",
       "      <th>3</th>\n",
       "      <td>0.016380</td>\n",
       "      <td>0.002214</td>\n",
       "      <td>0.008559</td>\n",
       "      <td>0.001157</td>\n",
       "      <td>0.1</td>\n",
       "      <td>l2</td>\n",
       "      <td>{'estimator__C': 0.1, 'estimator__penalty': 'l2'}</td>\n",
       "      <td>0.909251</td>\n",
       "      <td>0.854345</td>\n",
       "      <td>0.816892</td>\n",
       "      <td>0.836717</td>\n",
       "      <td>0.854301</td>\n",
       "      <td>0.034381</td>\n",
       "      <td>5</td>\n",
       "    </tr>\n",
       "    <tr>\n",
       "      <th>4</th>\n",
       "      <td>0.013705</td>\n",
       "      <td>0.000873</td>\n",
       "      <td>0.006061</td>\n",
       "      <td>0.000233</td>\n",
       "      <td>1</td>\n",
       "      <td>l1</td>\n",
       "      <td>{'estimator__C': 1, 'estimator__penalty': 'l1'}</td>\n",
       "      <td>0.904308</td>\n",
       "      <td>0.853039</td>\n",
       "      <td>0.826270</td>\n",
       "      <td>0.845620</td>\n",
       "      <td>0.857309</td>\n",
       "      <td>0.028841</td>\n",
       "      <td>3</td>\n",
       "    </tr>\n",
       "    <tr>\n",
       "      <th>5</th>\n",
       "      <td>0.011638</td>\n",
       "      <td>0.000288</td>\n",
       "      <td>0.006159</td>\n",
       "      <td>0.000090</td>\n",
       "      <td>1</td>\n",
       "      <td>l2</td>\n",
       "      <td>{'estimator__C': 1, 'estimator__penalty': 'l2'}</td>\n",
       "      <td>0.904896</td>\n",
       "      <td>0.852802</td>\n",
       "      <td>0.824252</td>\n",
       "      <td>0.844907</td>\n",
       "      <td>0.856714</td>\n",
       "      <td>0.029707</td>\n",
       "      <td>4</td>\n",
       "    </tr>\n",
       "    <tr>\n",
       "      <th>6</th>\n",
       "      <td>0.018373</td>\n",
       "      <td>0.001853</td>\n",
       "      <td>0.006889</td>\n",
       "      <td>0.000292</td>\n",
       "      <td>10</td>\n",
       "      <td>l1</td>\n",
       "      <td>{'estimator__C': 10, 'estimator__penalty': 'l1'}</td>\n",
       "      <td>0.906544</td>\n",
       "      <td>0.851258</td>\n",
       "      <td>0.825795</td>\n",
       "      <td>0.848469</td>\n",
       "      <td>0.858017</td>\n",
       "      <td>0.029707</td>\n",
       "      <td>2</td>\n",
       "    </tr>\n",
       "    <tr>\n",
       "      <th>7</th>\n",
       "      <td>0.015865</td>\n",
       "      <td>0.001326</td>\n",
       "      <td>0.008875</td>\n",
       "      <td>0.000975</td>\n",
       "      <td>10</td>\n",
       "      <td>l2</td>\n",
       "      <td>{'estimator__C': 10, 'estimator__penalty': 'l2'}</td>\n",
       "      <td>0.907250</td>\n",
       "      <td>0.850902</td>\n",
       "      <td>0.825914</td>\n",
       "      <td>0.848469</td>\n",
       "      <td>0.858134</td>\n",
       "      <td>0.029984</td>\n",
       "      <td>1</td>\n",
       "    </tr>\n",
       "  </tbody>\n",
       "</table>\n",
       "</div>"
      ],
      "text/plain": [
       "   mean_fit_time  std_fit_time  mean_score_time  std_score_time  \\\n",
       "0       0.017338      0.001410         0.009586        0.000801   \n",
       "1       0.016431      0.000703         0.009058        0.000364   \n",
       "2       0.026540      0.006237         0.012039        0.001824   \n",
       "3       0.016380      0.002214         0.008559        0.001157   \n",
       "4       0.013705      0.000873         0.006061        0.000233   \n",
       "5       0.011638      0.000288         0.006159        0.000090   \n",
       "6       0.018373      0.001853         0.006889        0.000292   \n",
       "7       0.015865      0.001326         0.008875        0.000975   \n",
       "\n",
       "  param_estimator__C param_estimator__penalty  \\\n",
       "0               0.01                       l1   \n",
       "1               0.01                       l2   \n",
       "2                0.1                       l1   \n",
       "3                0.1                       l2   \n",
       "4                  1                       l1   \n",
       "5                  1                       l2   \n",
       "6                 10                       l1   \n",
       "7                 10                       l2   \n",
       "\n",
       "                                              params  split0_test_score  \\\n",
       "0  {'estimator__C': 0.01, 'estimator__penalty': '...           0.829567   \n",
       "1  {'estimator__C': 0.01, 'estimator__penalty': '...           0.898423   \n",
       "2  {'estimator__C': 0.1, 'estimator__penalty': 'l1'}           0.882474   \n",
       "3  {'estimator__C': 0.1, 'estimator__penalty': 'l2'}           0.909251   \n",
       "4    {'estimator__C': 1, 'estimator__penalty': 'l1'}           0.904308   \n",
       "5    {'estimator__C': 1, 'estimator__penalty': 'l2'}           0.904896   \n",
       "6   {'estimator__C': 10, 'estimator__penalty': 'l1'}           0.906544   \n",
       "7   {'estimator__C': 10, 'estimator__penalty': 'l2'}           0.907250   \n",
       "\n",
       "   split1_test_score  split2_test_score  split3_test_score  mean_test_score  \\\n",
       "0           0.746795           0.743590           0.763355         0.770827   \n",
       "1           0.849122           0.806090           0.828051         0.845421   \n",
       "2           0.825261           0.803716           0.830306         0.835439   \n",
       "3           0.854345           0.816892           0.836717         0.854301   \n",
       "4           0.853039           0.826270           0.845620         0.857309   \n",
       "5           0.852802           0.824252           0.844907         0.856714   \n",
       "6           0.851258           0.825795           0.848469         0.858017   \n",
       "7           0.850902           0.825914           0.848469         0.858134   \n",
       "\n",
       "   std_test_score  rank_test_score  \n",
       "0        0.034733                8  \n",
       "1        0.034174                6  \n",
       "2        0.028934                7  \n",
       "3        0.034381                5  \n",
       "4        0.028841                3  \n",
       "5        0.029707                4  \n",
       "6        0.029707                2  \n",
       "7        0.029984                1  "
      ]
     },
     "execution_count": 70,
     "metadata": {},
     "output_type": "execute_result"
    }
   ],
   "source": [
    "scores = pd.DataFrame(grid.cv_results_)\n",
    "scores\n",
    "# print(scores[['params', 'mean_test_score', 'mean_train_score']])"
   ]
  },
  {
   "cell_type": "code",
   "execution_count": 74,
   "metadata": {},
   "outputs": [
    {
     "name": "stdout",
     "output_type": "stream",
     "text": [
      "Pipeline(steps=[('pre',\n",
      "                 ColumnTransformer(transformers=[('cat',\n",
      "                                                  Pipeline(steps=[('imputer',\n",
      "                                                                   SimpleImputer(strategy='most_frequent')),\n",
      "                                                                  ('encoder',\n",
      "                                                                   OneHotEncoder(dtype='int',\n",
      "                                                                                 handle_unknown='ignore'))]),\n",
      "                                                  ['Embarked', 'Sex',\n",
      "                                                   'Pclass']),\n",
      "                                                 ('fare',\n",
      "                                                  Pipeline(steps=[('imputer_fare',\n",
      "                                                                   SimpleImputer(strategy='median')),\n",
      "                                                                  ('log_transform',\n",
      "                                                                   FunctionTransformer(func=<ufunc 'log1p'>)),\n",
      "                                                                  ('min_max_scalar',\n",
      "                                                                   MinMaxScaler(feature_range=(-1,\n",
      "                                                                                               1)))]),\n",
      "                                                  ['Fare']),\n",
      "                                                 ('num',\n",
      "                                                  Pipeline(steps=[('imputer_numerical',\n",
      "                                                                   SimpleImputer()),\n",
      "                                                                  ('min_max_scalar',\n",
      "                                                                   MinMaxScaler(feature_range=(-1,\n",
      "                                                                                               1)))]),\n",
      "                                                  ['Age', 'SibSp', 'Parch'])])),\n",
      "                ('estimator', LogisticRegression(C=10, solver='liblinear'))])\n"
     ]
    }
   ],
   "source": [
    "gs_best = grid.best_estimator_\n",
    "print(gs_best)"
   ]
  },
  {
   "cell_type": "code",
   "execution_count": 81,
   "metadata": {},
   "outputs": [
    {
     "name": "stdout",
     "output_type": "stream",
     "text": [
      "[1 0 1 1 1]\n",
      "[[0.14947943 0.85052057]\n",
      " [0.91877591 0.08122409]\n",
      " [0.11151947 0.88848053]\n",
      " [0.33920672 0.66079328]\n",
      " [0.07866224 0.92133776]]\n"
     ]
    }
   ],
   "source": [
    "preds = gs_best.predict(X_test)\n",
    "print(preds[:5])\n",
    "\n",
    "preds_prob = gs_best.predict_proba(X_test)\n",
    "print(preds_prob[:5])\n",
    "\n",
    "prob = preds_prob[:, 1]"
   ]
  },
  {
   "cell_type": "code",
   "execution_count": 85,
   "metadata": {
    "scrolled": true
   },
   "outputs": [
    {
     "data": {
      "image/png": "[encoded data removed]",
      "text/plain": [
       "<Figure size 432x288 with 1 Axes>"
      ]
     },
     "metadata": {
      "needs_background": "light"
     },
     "output_type": "display_data"
    },
    {
     "name": "stdout",
     "output_type": "stream",
     "text": [
      "0.8376157407407407\n"
     ]
    }
   ],
   "source": [
    "from sklearn.metrics import roc_curve, roc_auc_score\n",
    "\n",
    "fpr, tpr, thresholds = roc_curve(y_test.values.flatten(), prob)\n",
    "roc_score = roc_auc_score(y_test.values.flatten(), prob)\n",
    "plt.plot(fpr, tpr, label='ROC curve')\n",
    "plt.plot([0, 1], [0, 1], 'k--', label='Random guess')\n",
    "plt.xlabel('False Positive Rate')\n",
    "plt.ylabel('True Positive Rate')\n",
    "plt.title('ROC Curve')\n",
    "plt.xlim([-0.02, 1])\n",
    "plt.ylim([0, 1.02])\n",
    "plt.legend(loc=\"lower right\")\n",
    "plt.show()\n",
    "print(roc_score)"
   ]
  },
  {
   "cell_type": "code",
   "execution_count": 89,
   "metadata": {
    "scrolled": true
   },
   "outputs": [
    {
     "data": {
      "image/png": "[encoded data removed]",
      "text/plain": [
       "<Figure size 432x288 with 1 Axes>"
      ]
     },
     "metadata": {
      "needs_background": "light"
     },
     "output_type": "display_data"
    }
   ],
   "source": [
    "# https://jakevdp.github.io/PythonDataScienceHandbook/04.05-histograms-and-binnings.html\n",
    "plt.hist(prob, bins=10, color='steelblue', alpha=0.5)\n",
    "plt.show()"
   ]
  },
  {
   "cell_type": "code",
   "execution_count": 118,
   "metadata": {},
   "outputs": [
    {
     "data": {
      "image/png": "[encoded data removed]",
      "text/plain": [
       "<Figure size 432x288 with 1 Axes>"
      ]
     },
     "metadata": {
      "needs_background": "light"
     },
     "output_type": "display_data"
    },
    {
     "name": "stdout",
     "output_type": "stream",
     "text": [
      "0.8148830783153659\n"
     ]
    }
   ],
   "source": [
    "from sklearn.metrics import precision_recall_curve, average_precision_score\n",
    "\n",
    "precision, recall, thresholds = precision_recall_curve(y_test.values.flatten(), prob)\n",
    "ap_score = average_precision_score(y_test.values.flatten(), prob)\n",
    "plt.plot(recall, precision, label='Precision-Recall curve')\n",
    "plt.plot([1, 0], [0, 1], 'k--', label='Random guess')\n",
    "plt.xlabel('Recall')\n",
    "plt.ylabel('Precision')\n",
    "plt.title('Precision-Recall Curve')\n",
    "plt.xlim([-0.02, 1.02])\n",
    "plt.ylim([0, 1.02])\n",
    "plt.legend(loc=\"lower right\")\n",
    "plt.show()\n",
    "print(ap_score)"
   ]
  },
  {
   "cell_type": "code",
   "execution_count": 121,
   "metadata": {},
   "outputs": [
    {
     "data": {
      "image/png": "[encoded data removed]",
      "text/plain": [
       "<Figure size 432x288 with 1 Axes>"
      ]
     },
     "metadata": {
      "needs_background": "light"
     },
     "output_type": "display_data"
    }
   ],
   "source": [
    "from sklearn.calibration import CalibrationDisplay\n",
    "disp = CalibrationDisplay.from_estimator(gs_best, X_test, y_test.values.flatten())\n",
    "plt.show()"
   ]
  },
  {
   "cell_type": "markdown",
   "metadata": {},
   "source": [
    "### Lets pick a random threshold"
   ]
  },
  {
   "cell_type": "code",
   "execution_count": 103,
   "metadata": {},
   "outputs": [
    {
     "data": {
      "text/plain": [
       "array([1, 0, 1, 0, 1, 0, 0, 1, 0, 0, 0, 0, 0, 0, 0, 0, 0, 0, 0, 0, 0, 0,\n",
       "       1, 0, 0, 0, 1, 1, 0, 1, 0, 0, 0, 0, 0, 0, 0, 0, 0, 0, 0, 0, 1, 0,\n",
       "       0, 0, 0, 0, 0, 0, 0, 1, 0, 0, 0, 0, 0, 0, 0, 0, 0, 0, 0, 0, 0, 0,\n",
       "       0, 0, 1, 0, 0, 0, 0, 0, 0, 0, 1, 0, 0, 1, 0, 0, 0, 0, 1, 0, 0, 0,\n",
       "       0, 0, 0, 0, 0, 0, 0, 0, 0, 0, 0, 0, 0, 0, 0, 1, 1, 0, 0, 0, 0, 0,\n",
       "       0, 0, 0, 0, 0, 0, 0, 0, 1, 0, 1, 0, 0, 0, 1, 1, 1, 0, 0, 0, 0, 0,\n",
       "       1, 0])"
      ]
     },
     "execution_count": 103,
     "metadata": {},
     "output_type": "execute_result"
    }
   ],
   "source": [
    "y_pred_thresh = (gs_best.predict_proba(X_test)[:,1] >= 0.75).astype(int) # set threshold as 0.7\n",
    "y_pred_thresh"
   ]
  },
  {
   "cell_type": "code",
   "execution_count": 104,
   "metadata": {},
   "outputs": [
    {
     "name": "stdout",
     "output_type": "stream",
     "text": [
      "              precision    recall  f1-score   support\n",
      "\n",
      "           0       0.70      0.97      0.81        80\n",
      "           1       0.91      0.37      0.53        54\n",
      "\n",
      "    accuracy                           0.73       134\n",
      "   macro avg       0.80      0.67      0.67       134\n",
      "weighted avg       0.78      0.73      0.70       134\n",
      "\n"
     ]
    }
   ],
   "source": [
    "from sklearn.metrics import classification_report\n",
    "print(classification_report(y_test.values.flatten(), y_pred_thresh))"
   ]
  },
  {
   "cell_type": "code",
   "execution_count": 106,
   "metadata": {},
   "outputs": [
    {
     "data": {
      "image/png": "[encoded data removed]",
      "text/plain": [
       "<Figure size 432x288 with 2 Axes>"
      ]
     },
     "metadata": {
      "needs_background": "light"
     },
     "output_type": "display_data"
    }
   ],
   "source": [
    "from sklearn.metrics import confusion_matrix, ConfusionMatrixDisplay\n",
    "\n",
    "cm = confusion_matrix(y_test.values.flatten(), y_pred_thresh, labels=gs_best.classes_)\n",
    "disp = ConfusionMatrixDisplay(confusion_matrix=cm, display_labels=gs_best.classes_)\n",
    "disp.plot()\n",
    "plt.show()"
   ]
  },
  {
   "cell_type": "markdown",
   "metadata": {},
   "source": [
    "## REPEAT WITH RANDOM FOREST"
   ]
  },
  {
   "cell_type": "code",
   "execution_count": null,
   "metadata": {},
   "outputs": [],
   "source": [
    "rfc = RandomForestClassifier()\n",
    "\n",
    "forest_params = [{'max_depth': list(range(10, 15)), 'max_features': list(range(0,14))}]\n",
    "\n",
    "clf = GridSearchCV(rfc, forest_params, cv = 10, scoring='accuracy')\n",
    "\n",
    "clf.fit(X_train, y_train)"
   ]
  },
  {
   "cell_type": "code",
   "execution_count": null,
   "metadata": {},
   "outputs": [],
   "source": [
    "print(clf.best_params_)\n",
    "\n",
    "print(clf.best_score_)"
   ]
  },
  {
   "cell_type": "code",
   "execution_count": 125,
   "metadata": {},
   "outputs": [
    {
     "name": "stdout",
     "output_type": "stream",
     "text": [
      "Fitting 4 folds for each of 9 candidates, totalling 36 fits\n",
      "{'estimator__max_features': 3, 'estimator__n_estimators': 50}\n",
      "0.8648626251468765\n"
     ]
    }
   ],
   "source": [
    "training_pipeline = Pipeline([\n",
    "        ('pre', preprocessor),\n",
    "        ('estimator', RandomForestClassifier())\n",
    "    ])\n",
    "\n",
    "parameters = {\n",
    "    'estimator__n_estimators': [10, 50, 100], \n",
    "    'estimator__max_features': [3, 5, \"sqrt\"]\n",
    "}\n",
    "\n",
    "cv = StratifiedKFold(n_splits=4, shuffle=True, random_state=42)\n",
    "grid = GridSearchCV(estimator=training_pipeline,\n",
    "                    param_grid=parameters,\n",
    "                    scoring='roc_auc',\n",
    "                    cv=cv,\n",
    "                    verbose=1,\n",
    "                    n_jobs=1,\n",
    "                    error_score=\"raise\")\n",
    "\n",
    "grid.fit(X_train, y_train.values.flatten())\n",
    "print(grid.best_params_)\n",
    "print(grid.best_score_)"
   ]
  },
  {
   "cell_type": "code",
   "execution_count": 126,
   "metadata": {},
   "outputs": [
    {
     "name": "stdout",
     "output_type": "stream",
     "text": [
      "Pipeline(steps=[('pre',\n",
      "                 ColumnTransformer(transformers=[('cat',\n",
      "                                                  Pipeline(steps=[('imputer',\n",
      "                                                                   SimpleImputer(strategy='most_frequent')),\n",
      "                                                                  ('encoder',\n",
      "                                                                   OneHotEncoder(dtype='int',\n",
      "                                                                                 handle_unknown='ignore'))]),\n",
      "                                                  ['Embarked', 'Sex',\n",
      "                                                   'Pclass']),\n",
      "                                                 ('fare',\n",
      "                                                  Pipeline(steps=[('imputer_fare',\n",
      "                                                                   SimpleImputer(strategy='median')),\n",
      "                                                                  ('log_transform',\n",
      "                                                                   FunctionTransformer(func=<ufunc 'log1p'>)),\n",
      "                                                                  ('min_max_scalar',\n",
      "                                                                   MinMaxScaler(feature_range=(-1,\n",
      "                                                                                               1)))]),\n",
      "                                                  ['Fare']),\n",
      "                                                 ('num',\n",
      "                                                  Pipeline(steps=[('imputer_numerical',\n",
      "                                                                   SimpleImputer()),\n",
      "                                                                  ('min_max_scalar',\n",
      "                                                                   MinMaxScaler(feature_range=(-1,\n",
      "                                                                                               1)))]),\n",
      "                                                  ['Age', 'SibSp', 'Parch'])])),\n",
      "                ('estimator',\n",
      "                 RandomForestClassifier(max_features=3, n_estimators=50))])\n"
     ]
    }
   ],
   "source": [
    "gs_best = grid.best_estimator_\n",
    "print(gs_best)"
   ]
  },
  {
   "cell_type": "code",
   "execution_count": 127,
   "metadata": {},
   "outputs": [
    {
     "name": "stdout",
     "output_type": "stream",
     "text": [
      "[1 0 1 1 1]\n",
      "[[0.02       0.98      ]\n",
      " [1.         0.        ]\n",
      " [0.11933333 0.88066667]\n",
      " [0.08285714 0.91714286]\n",
      " [0.02       0.98      ]]\n"
     ]
    }
   ],
   "source": [
    "preds = gs_best.predict(X_test)\n",
    "print(preds[:5])\n",
    "\n",
    "preds_prob = gs_best.predict_proba(X_test)\n",
    "print(preds_prob[:5])\n",
    "\n",
    "prob = preds_prob[:, 1]"
   ]
  },
  {
   "cell_type": "code",
   "execution_count": 128,
   "metadata": {},
   "outputs": [
    {
     "data": {
      "image/png": "[encoded data removed]",
      "text/plain": [
       "<Figure size 432x288 with 1 Axes>"
      ]
     },
     "metadata": {
      "needs_background": "light"
     },
     "output_type": "display_data"
    },
    {
     "name": "stdout",
     "output_type": "stream",
     "text": [
      "0.8362268518518517\n"
     ]
    }
   ],
   "source": [
    "from sklearn.metrics import roc_curve, roc_auc_score\n",
    "\n",
    "fpr, tpr, thresholds = roc_curve(y_test.values.flatten(), prob)\n",
    "roc_score = roc_auc_score(y_test.values.flatten(), prob)\n",
    "plt.plot(fpr, tpr, label='ROC curve')\n",
    "plt.plot([0, 1], [0, 1], 'k--', label='Random guess')\n",
    "plt.xlabel('False Positive Rate')\n",
    "plt.ylabel('True Positive Rate')\n",
    "plt.title('ROC Curve')\n",
    "plt.xlim([-0.02, 1])\n",
    "plt.ylim([0, 1.02])\n",
    "plt.legend(loc=\"lower right\")\n",
    "plt.show()\n",
    "print(roc_score)"
   ]
  },
  {
   "cell_type": "code",
   "execution_count": 129,
   "metadata": {},
   "outputs": [
    {
     "data": {
      "image/png": "[encoded data removed]",
      "text/plain": [
       "<Figure size 432x288 with 1 Axes>"
      ]
     },
     "metadata": {
      "needs_background": "light"
     },
     "output_type": "display_data"
    }
   ],
   "source": [
    "# https://jakevdp.github.io/PythonDataScienceHandbook/04.05-histograms-and-binnings.html\n",
    "plt.hist(prob, bins=10, color='steelblue', alpha=0.5)\n",
    "plt.show()"
   ]
  },
  {
   "cell_type": "code",
   "execution_count": 130,
   "metadata": {},
   "outputs": [
    {
     "data": {
      "image/png": "[encoded data removed]",
      "text/plain": [
       "<Figure size 432x288 with 1 Axes>"
      ]
     },
     "metadata": {
      "needs_background": "light"
     },
     "output_type": "display_data"
    }
   ],
   "source": [
    "from sklearn.calibration import CalibrationDisplay\n",
    "disp = CalibrationDisplay.from_estimator(gs_best, X_test, y_test.values.flatten())\n",
    "plt.show()"
   ]
  }
 ],
 "metadata": {
  "interpreter": {
   "hash": "22fa77581ead0205f813095b576952c79ad4d9bce08c309d1fb24715c9a2095f"
  },
  "kernelspec": {
   "display_name": "pyv39",
   "language": "python",
   "name": "pyv39"
  },
  "language_info": {
   "codemirror_mode": {
    "name": "ipython",
    "version": 3
   },
   "file_extension": ".py",
   "mimetype": "text/x-python",
   "name": "python",
   "nbconvert_exporter": "python",
   "pygments_lexer": "ipython3",
   "version": "3.9.12"
  }
 },
 "nbformat": 4,
 "nbformat_minor": 2
}
