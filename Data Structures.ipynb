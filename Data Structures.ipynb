{
 "cells": [
  {
   "cell_type": "markdown",
   "metadata": {},
   "source": [
    "## Stacks\n",
    "-----------\n",
    "Properties of a stack:\n",
    "* you can keep add objects\n",
    "* you can remove the top object"
   ]
  },
  {
   "cell_type": "code",
   "execution_count": 10,
   "metadata": {},
   "outputs": [],
   "source": [
    "class Stacks():\n",
    "    def __init__(self, stack):\n",
    "        if isinstance(stack, list):\n",
    "            self.stack = stack\n",
    "        else:\n",
    "            raise ValueError(\"Not a list!\")\n",
    "\n",
    "    def show_stack(self):\n",
    "        print(self.stack)\n",
    "        \n",
    "    def add_elem(self, x):\n",
    "        self.stack.append(x)\n",
    "        print(\"Added element: {}\".format(x))\n",
    "        \n",
    "    def remove_elem(self):\n",
    "        elem_to_remove = self.stack[-1]\n",
    "        self.stack.pop(-1)\n",
    "        print(\"Removed element: {}\".format(elem_to_remove))"
   ]
  },
  {
   "cell_type": "code",
   "execution_count": 11,
   "metadata": {},
   "outputs": [],
   "source": [
    "news_topics = [\"sports\", \"politics\", \"health\", \"world\", \"economy\"]\n",
    "ds_stack = Stacks(news_topics)"
   ]
  },
  {
   "cell_type": "code",
   "execution_count": 13,
   "metadata": {},
   "outputs": [
    {
     "name": "stdout",
     "output_type": "stream",
     "text": [
      "['sports', 'politics', 'health', 'world', 'economy']\n"
     ]
    }
   ],
   "source": [
    "ds_stack.show_stack()"
   ]
  },
  {
   "cell_type": "code",
   "execution_count": 14,
   "metadata": {},
   "outputs": [
    {
     "name": "stdout",
     "output_type": "stream",
     "text": [
      "Added element: 8\n"
     ]
    }
   ],
   "source": [
    "ds_stack.add_elem(8)"
   ]
  },
  {
   "cell_type": "code",
   "execution_count": 15,
   "metadata": {},
   "outputs": [
    {
     "name": "stdout",
     "output_type": "stream",
     "text": [
      "['sports', 'politics', 'health', 'world', 'economy', 8]\n"
     ]
    }
   ],
   "source": [
    "ds_stack.show_stack()"
   ]
  },
  {
   "cell_type": "code",
   "execution_count": 16,
   "metadata": {},
   "outputs": [
    {
     "name": "stdout",
     "output_type": "stream",
     "text": [
      "Removed element: 8\n"
     ]
    }
   ],
   "source": [
    "ds_stack.remove_elem()"
   ]
  },
  {
   "cell_type": "code",
   "execution_count": 17,
   "metadata": {},
   "outputs": [
    {
     "name": "stdout",
     "output_type": "stream",
     "text": [
      "Removed element: economy\n"
     ]
    }
   ],
   "source": [
    "ds_stack.remove_elem()"
   ]
  },
  {
   "cell_type": "code",
   "execution_count": 18,
   "metadata": {},
   "outputs": [
    {
     "name": "stdout",
     "output_type": "stream",
     "text": [
      "Removed element: world\n"
     ]
    }
   ],
   "source": [
    "ds_stack.remove_elem()"
   ]
  },
  {
   "cell_type": "code",
   "execution_count": 19,
   "metadata": {},
   "outputs": [
    {
     "name": "stdout",
     "output_type": "stream",
     "text": [
      "Removed element: health\n"
     ]
    }
   ],
   "source": [
    "ds_stack.remove_elem()"
   ]
  },
  {
   "cell_type": "code",
   "execution_count": 20,
   "metadata": {},
   "outputs": [
    {
     "name": "stdout",
     "output_type": "stream",
     "text": [
      "Removed element: politics\n"
     ]
    }
   ],
   "source": [
    "ds_stack.remove_elem()"
   ]
  },
  {
   "cell_type": "markdown",
   "metadata": {},
   "source": [
    "## Linked List\n",
    "-----------\n",
    "\n",
    "Properties of a linked list:\n",
    "* can be singly or doubly linked\n",
    "* no indicies - only keeps track of the next/previous element\n",
    "* can insert / remove elements"
   ]
  },
  {
   "cell_type": "code",
   "execution_count": null,
   "metadata": {},
   "outputs": [],
   "source": [
    "class Linked_List():\n",
    "    def __init__(self):\n",
    "        "
   ]
  }
 ],
 "metadata": {
  "kernelspec": {
   "display_name": "Python 3",
   "language": "python",
   "name": "python3"
  },
  "language_info": {
   "codemirror_mode": {
    "name": "ipython",
    "version": 3
   },
   "file_extension": ".py",
   "mimetype": "text/x-python",
   "name": "python",
   "nbconvert_exporter": "python",
   "pygments_lexer": "ipython3",
   "version": "3.6.12"
  }
 },
 "nbformat": 4,
 "nbformat_minor": 4
}
